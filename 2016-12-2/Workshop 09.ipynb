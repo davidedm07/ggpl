{
 "cells": [
  {
   "cell_type": "markdown",
   "metadata": {},
   "source": [
    "#  <font color = \"green\">House Modeling </font> "
   ]
  },
  {
   "cell_type": "markdown",
   "metadata": {},
   "source": [
    "## In this workhop there is the definition of a function that builds an houset by taking in input some files with lines extension derived from the house's plant."
   ]
  },
  {
   "cell_type": "markdown",
   "metadata": {},
   "source": [
    "## <font color = \"green\" > Reference Model </font>"
   ]
  },
  {
   "cell_type": "markdown",
   "metadata": {},
   "source": [
    "<img src=\"files/floor-plan_s.jpg\">"
   ]
  },
  {
   "cell_type": "markdown",
   "metadata": {},
   "source": [
    "## <font color = \"green\" > Description of the Code </font>"
   ]
  },
  {
   "cell_type": "markdown",
   "metadata": {},
   "source": [
    "## <font color = \"green\" > Creation of the External Walls </font>"
   ]
  },
  {
   "cell_type": "markdown",
   "metadata": {},
   "source": [
    "### This portion of code has the task to create the external walls of the house. For doing that the function needs to read a file named muri_esterni.lines that derives from the svg file of the draw of the external walls. The function reads the values from the file and uses them to build the outline of the walls. Using the functions offset and prod the function builds the 3D walls and trough the function solidify it creates the pavement of the house. The xScale and yScale values are used to adjust the dimensions of the house, in fact, the values read on the file are measured in pixel and not in meters. The fixed dimensions for the house are 16 meters for the width and the length."
   ]
  },
  {
   "cell_type": "code",
   "execution_count": null,
   "metadata": {
    "collapsed": true
   },
   "outputs": [],
   "source": [
    "with open(\"Lines_Files/muri_esterni.lines\", \"rb\") as csvfile:\n",
    "\t\t\tcsvReader = csv.reader(csvfile,delimiter=\",\")\n",
    "\t\t\texternalWalls_list = []\n",
    "\t\t\tfor row in csvReader :\n",
    "\t\t\t\texternalWalls_list.append(POLYLINE([[float(row[0]),float(row[1])],[float(row[2]),float(row[3])]]))\n",
    "\t\texternalWalls = STRUCT(externalWalls_list)\n",
    "\t\txScale = 16/SIZE([1])(externalWalls)[0]\n",
    "\t\tyScale = 16/SIZE([2])(externalWalls)[0]\n",
    "\t\texternalWalls = S([1,2])([xScale,yScale])(externalWalls)\n",
    "\t\tpavement = SOLIDIFY (externalWalls)\n",
    "\t\texternalWalls = OFFSET([.2,.2])(externalWalls)\n",
    "\t\texternalWalls = PROD([externalWalls,Q(3)])\n",
    "\t\tpavement = TEXTURE(\"Texture/parquet_texture.jpg\")(pavement)"
   ]
  },
  {
   "cell_type": "markdown",
   "metadata": {},
   "source": [
    "## <font color = \"green\" > Result of the previous part of Code </font>"
   ]
  },
  {
   "cell_type": "markdown",
   "metadata": {},
   "source": [
    "<img src=\"files/Code_Explanation/muri_esterni.png\">\n",
    "### external walls created by the function"
   ]
  },
  {
   "cell_type": "markdown",
   "metadata": {},
   "source": [
    "<img src=\"files/Code_Explanation/pavimento.png\">\n",
    "### pavement created by the function"
   ]
  },
  {
   "cell_type": "markdown",
   "metadata": {},
   "source": [
    "## <font color = \"green\" > Creation of the Internal Walls </font>"
   ]
  },
  {
   "cell_type": "markdown",
   "metadata": {},
   "source": [
    "### This part of the code creates the inner walls of the house in the same way it created the external ones. The file is read and the values are used to build the inner walls as described in the svg file first and then in the .lines one."
   ]
  },
  {
   "cell_type": "code",
   "execution_count": null,
   "metadata": {
    "collapsed": true
   },
   "outputs": [],
   "source": [
    "with open(\"Lines_Files/muri_interni.lines\", \"rb\") as csvfile:\n",
    "\t\t\tcsvReader = csv.reader(csvfile,delimiter=\",\")\n",
    "\t\t\tinternalWalls_list = []\n",
    "\t\t\tfor row in csvReader :\n",
    "\t\t\t\tinternalWalls_list.append(POLYLINE([[float(row[0]),float(row[1])],[float(row[2]),float(row[3])]]))\n",
    "\t\tinternalWalls = STRUCT(internalWalls_list)\n",
    "\t\tinternalWalls = S([1,2])([xScale,yScale])(internalWalls)\n",
    "\t\tinternalWalls = OFFSET([.2,.2])(internalWalls)\n",
    "\t\tinternalWalls = PROD([internalWalls,Q(3)])"
   ]
  },
  {
   "cell_type": "markdown",
   "metadata": {},
   "source": [
    "## <font color = \"green\" > Result of the previous part of Code </font>"
   ]
  },
  {
   "cell_type": "markdown",
   "metadata": {},
   "source": [
    "<img src=\"files/Code_Explanation/muri_interni.png\">\n",
    "### internal walls created by the function"
   ]
  },
  {
   "cell_type": "markdown",
   "metadata": {},
   "source": [
    "## <font color = \"green\" > Creation of doors and windows </font>"
   ]
  },
  {
   "cell_type": "markdown",
   "metadata": {},
   "source": [
    "### This portion of the code has the task of building the doors and the windows of the house. To complete this task the program reads the 2 files and creates some cuboids of the given measures. These cuboids will be deleted by the function difference of pyplasm in order to leave the empty spaces for the doors and the windows. To create these cuboids there is the need of a counter to avoid the multiple creation of the same cuboids. They are scaled by the same factors used for the creation of the internal/external walls"
   ]
  },
  {
   "cell_type": "code",
   "execution_count": null,
   "metadata": {
    "collapsed": true
   },
   "outputs": [],
   "source": [
    "with open(\"Lines_Files/porte.lines\", \"rb\") as csvfile:\n",
    "\t\t\tcsvReader = csv.reader(csvfile,delimiter=\",\")\n",
    "\t\t\tlistDoors = []\n",
    "\t\t\tcuboid = []\n",
    "\t\t\tcont = 0\n",
    "\t\t\tfor row in csvReader:\n",
    "\t\t\t\tcont += 1\n",
    "\t\t\t\tcuboid.append([float(row[0]),float(row[1])])\n",
    "\t\t\t\tif cont == 4:\n",
    "\t\t\t\t\tlistDoors.append(MKPOL([cuboid,[[1,2,3,4]],None]))\n",
    "\t\t\t\t\tcuboid = []\n",
    "\t\t\t\t\tcont = 0\n",
    "\t\twith open(\"Lines_Files/finestre.lines\", \"rb\") as csvfile:\n",
    "\t\t\tcsvReader = csv.reader(csvfile,delimiter=\",\")\n",
    "\t\t\tlistWindows = []\n",
    "\t\t\tcuboid = []\n",
    "\t\t\tcont = 0\n",
    "\t\t\tfor row in csvReader:\n",
    "\t\t\t\tcont += 1\n",
    "\t\t\t\tcuboid.append([float(row[0]),float(row[1])])\n",
    "\t\t\t\tif cont == 4:\n",
    "\t\t\t\t\tlistWindows.append(MKPOL([cuboid,[[1,2,3,4]],None]))\n",
    "\t\t\t\t\tcuboid = []\n",
    "\t\t\t\t\tcont = 0\n",
    "\t\t\tdoors = STRUCT(listDoors)\n",
    "\t\t\tdoors = S([1,2])([xScale, yScale])(doors)\n",
    "\t\t\twindows = STRUCT(listWindows)\n",
    "\t\t\twindows = S([1,2])([xScale, yScale])(windows)\n",
    "\t\t\twindows = OFFSET([.2,.2])(windows)\n",
    "        \twindows = PROD([windows, Q(1.5)])\n",
    "        \twindows = T(3)(1)(windows)\n",
    "        \tdoors = OFFSET([.2,.2])(doors)\n",
    "        \tdoors = PROD([doors, Q(3)])"
   ]
  },
  {
   "cell_type": "markdown",
   "metadata": {},
   "source": [
    "## <font color = \"green\" > Assembling All Together </font>"
   ]
  },
  {
   "cell_type": "markdown",
   "metadata": {},
   "source": [
    "### The last part of the code consists in 2 calls of the function difference of pyplasm. The first one creates the empty spaces for the windows, the second one the empty spaced for the doors. There are also the addictions of the textures for the internal and external walls to make them look nicer."
   ]
  },
  {
   "cell_type": "code",
   "execution_count": null,
   "metadata": {
    "collapsed": true
   },
   "outputs": [],
   "source": [
    " \texternalWalls = DIFFERENCE([externalWalls,windows])\n",
    "        \texternalWalls = TEXTURE(\"Texture/external_walls.jpg\")(externalWalls)\n",
    "        \tinternalWalls = DIFFERENCE([internalWalls,doors])\n",
    "        \tinternalWalls = TEXTURE(\"Texture/internal_walls.jpg\")(internalWalls)\n",
    "        \twalls = STRUCT([internalWalls,externalWalls])\n",
    "\t\thouse = STRUCT([walls,pavement])"
   ]
  },
  {
   "cell_type": "markdown",
   "metadata": {},
   "source": [
    "## <font color = \"green\" > Complete Function </font>"
   ]
  },
  {
   "cell_type": "code",
   "execution_count": 2,
   "metadata": {
    "collapsed": false
   },
   "outputs": [],
   "source": [
    "import csv\n",
    "from pyplasm import *\n",
    "def ggpl_house_builder():\n",
    "\t\twith open(\"Lines_Files/muri_esterni.lines\", \"rb\") as csvfile:\n",
    "\t\t\tcsvReader = csv.reader(csvfile,delimiter=\",\")\n",
    "\t\t\texternalWalls_list = []\n",
    "\t\t\tfor row in csvReader :\n",
    "\t\t\t\texternalWalls_list.append(POLYLINE([[float(row[0]),float(row[1])],[float(row[2]),float(row[3])]]))\n",
    "\t\texternalWalls = STRUCT(externalWalls_list)\n",
    "\t\txScale = 16/SIZE([1])(externalWalls)[0]\n",
    "\t\tyScale = 16/SIZE([2])(externalWalls)[0]\n",
    "\t\texternalWalls = S([1,2])([xScale,yScale])(externalWalls)\n",
    "\t\tpavement = SOLIDIFY (externalWalls)\n",
    "\t\texternalWalls = OFFSET([.2,.2])(externalWalls)\n",
    "\t\texternalWalls = PROD([externalWalls,Q(3)])\n",
    "\t\tpavement = TEXTURE(\"Texture/parquet_texture.jpg\")(pavement)\n",
    "\t\twith open(\"Lines_Files/muri_interni.lines\", \"rb\") as csvfile:\n",
    "\t\t\tcsvReader = csv.reader(csvfile,delimiter=\",\")\n",
    "\t\t\tinternalWalls_list = []\n",
    "\t\t\tfor row in csvReader :\n",
    "\t\t\t\tinternalWalls_list.append(POLYLINE([[float(row[0]),float(row[1])],[float(row[2]),float(row[3])]]))\n",
    "\t\tinternalWalls = STRUCT(internalWalls_list)\n",
    "\t\tinternalWalls = S([1,2])([xScale,yScale])(internalWalls)\n",
    "\t\tinternalWalls = OFFSET([.2,.2])(internalWalls)\n",
    "\t\tinternalWalls = PROD([internalWalls,Q(3)])\n",
    "\t\t\n",
    "\t\twith open(\"Lines_Files/porte.lines\", \"rb\") as csvfile:\n",
    "\t\t\tcsvReader = csv.reader(csvfile,delimiter=\",\")\n",
    "\t\t\tlistDoors = []\n",
    "\t\t\tcuboid = []\n",
    "\t\t\tcont = 0\n",
    "\t\t\tfor row in csvReader:\n",
    "\t\t\t\tcont += 1\n",
    "\t\t\t\tcuboid.append([float(row[0]),float(row[1])])\n",
    "\t\t\t\tif cont == 4:\n",
    "\t\t\t\t\tlistDoors.append(MKPOL([cuboid,[[1,2,3,4]],None]))\n",
    "\t\t\t\t\tcuboid = []\n",
    "\t\t\t\t\tcont = 0\n",
    "\t\twith open(\"Lines_Files/finestre.lines\", \"rb\") as csvfile:\n",
    "\t\t\tcsvReader = csv.reader(csvfile,delimiter=\",\")\n",
    "\t\t\tlistWindows = []\n",
    "\t\t\tcuboid = []\n",
    "\t\t\tcont = 0\n",
    "\t\t\tfor row in csvReader:\n",
    "\t\t\t\tcont += 1\n",
    "\t\t\t\tcuboid.append([float(row[0]),float(row[1])])\n",
    "\t\t\t\tif cont == 4:\n",
    "\t\t\t\t\tlistWindows.append(MKPOL([cuboid,[[1,2,3,4]],None]))\n",
    "\t\t\t\t\tcuboid = []\n",
    "\t\t\t\t\tcont = 0\t\t\t\n",
    "\n",
    "\t\t\tdoors = STRUCT(listDoors)\n",
    "\t\t\tdoors = S([1,2])([xScale, yScale])(doors)\n",
    "\t\t\twindows = STRUCT(listWindows)\n",
    "\t\t\twindows = S([1,2])([xScale, yScale])(windows)\n",
    "\t\t\twindows = OFFSET([.2,.2])(windows)\n",
    "        \twindows = PROD([windows, Q(1.5)])\n",
    "        \twindows = T(3)(1)(windows)\n",
    "        \tdoors = OFFSET([.2,.2])(doors)\n",
    "        \tdoors = PROD([doors, Q(3)])\n",
    "        \texternalWalls = DIFFERENCE([externalWalls,windows])\n",
    "        \texternalWalls = TEXTURE(\"Texture/external_walls.jpg\")(externalWalls)\n",
    "        \tinternalWalls = DIFFERENCE([internalWalls,doors])\n",
    "        \tinternalWalls = TEXTURE(\"Texture/internal_walls.jpg\")(internalWalls)\n",
    "        \twalls = STRUCT([internalWalls,externalWalls])\n",
    "\t\thouse = STRUCT([walls,pavement])\n",
    "\t\tVIEW(house)\n",
    "\n",
    "ggpl_house_builder()"
   ]
  },
  {
   "cell_type": "markdown",
   "metadata": {},
   "source": [
    "## <font color = \"green\" > Example </font>"
   ]
  },
  {
   "cell_type": "markdown",
   "metadata": {},
   "source": [
    "## <font color = \"green\" > Svg Files </font>"
   ]
  },
  {
   "cell_type": "markdown",
   "metadata": {},
   "source": [
    "<img src = \"files/Svg_Files/muri_esterni.svg\">\n",
    "### muri_esterni.svg"
   ]
  },
  {
   "cell_type": "markdown",
   "metadata": {},
   "source": [
    "<img src = \"files/Svg_Files/muri_interni.svg\">\n",
    "### muri_interni.svg"
   ]
  },
  {
   "cell_type": "markdown",
   "metadata": {},
   "source": [
    "<img src = \"files/Svg_Files/finestre.svg\">\n",
    "### finestre.svg"
   ]
  },
  {
   "cell_type": "markdown",
   "metadata": {},
   "source": [
    "<img src = \"files/Svg_Files/porte1.svg\">\n",
    "### porte.svg"
   ]
  },
  {
   "cell_type": "markdown",
   "metadata": {},
   "source": [
    "## <font color = \"green\" > Output </font>"
   ]
  },
  {
   "cell_type": "markdown",
   "metadata": {},
   "source": [
    "### The following images display the output of the function. It reproduces the floor plant put in the reference model paragraph."
   ]
  },
  {
   "cell_type": "markdown",
   "metadata": {},
   "source": [
    "<img src = \"files/Code_Explanation/output1.png\">"
   ]
  },
  {
   "cell_type": "markdown",
   "metadata": {},
   "source": [
    "<img src = \"files/Code_Explanation/output2.png\">"
   ]
  },
  {
   "cell_type": "markdown",
   "metadata": {},
   "source": [
    "<img src = \"files/Code_Explanation/output3.png\">"
   ]
  }
 ],
 "metadata": {
  "kernelspec": {
   "display_name": "Python 2",
   "language": "python",
   "name": "python2"
  },
  "language_info": {
   "codemirror_mode": {
    "name": "ipython",
    "version": 2
   },
   "file_extension": ".py",
   "mimetype": "text/x-python",
   "name": "python",
   "nbconvert_exporter": "python",
   "pygments_lexer": "ipython2",
   "version": "2.7.12"
  }
 },
 "nbformat": 4,
 "nbformat_minor": 1
}
