{
 "cells": [
  {
   "cell_type": "markdown",
   "metadata": {},
   "source": [
    "# <font color = \"green\"> Multistorey House Modeling </font> "
   ]
  },
  {
   "cell_type": "markdown",
   "metadata": {},
   "source": [
    "## <font color = \"green\"> Model </font> "
   ]
  },
  {
   "cell_type": "markdown",
   "metadata": {
    "collapsed": true
   },
   "source": [
    "<img src=\"files/plan.gif\">"
   ]
  },
  {
   "cell_type": "markdown",
   "metadata": {},
   "source": [
    "# <font color = \"green\"> Code Explanation </font>"
   ]
  },
  {
   "cell_type": "markdown",
   "metadata": {},
   "source": [
    "### The main function, the workshop10 one, has the simple task to call the function ggpl_house_builder developed during the eighth workshop that builds and assembles all the parts obtained by calling the various functions of the previous workshops."
   ]
  },
  {
   "cell_type": "code",
   "execution_count": 1,
   "metadata": {
    "collapsed": false
   },
   "outputs": [
    {
     "name": "stdout",
     "output_type": "stream",
     "text": [
      "Evaluating fenvs.py..\n",
      "...fenvs.py imported in 0.003905 seconds\n",
      "[-38.11565252787978, -39.96719233985703]\n",
      "[-76.23130505575956, -79.93438477971407]\n"
     ]
    }
   ],
   "source": [
    "from pyplasm import *\n",
    "import csv\n",
    "from res import workshop_08 as w08\n",
    "from res import workshop_03 as w03\n",
    "def ggpl_multistory_house():\n",
    "\thouse = w08.ggpl_house_builder()\n",
    "\tVIEW(house)\n",
    "    \n",
    "if __name__ == \"__main__\":\n",
    "\tggpl_multistory_house()"
   ]
  },
  {
   "cell_type": "markdown",
   "metadata": {},
   "source": [
    "## <font color = \"green\"> Details of the new version of the ggpl_house_builder function </font>"
   ]
  },
  {
   "cell_type": "code",
   "execution_count": null,
   "metadata": {
    "collapsed": true
   },
   "outputs": [],
   "source": [
    "\tXDoor = [.2,.4,.1,.4,.2]\n",
    "\tYDoor = [.3,.6,.1,.6,.1,.6,.1,.6,.3]\n",
    "\toccurencesDoor = [[True]*5, [True,False,True,False,True], [True]*5, [True,False,True,False,True], \n",
    "\t[True]*5, [True,False,True,False,True], [True]*5, [True,False,True,False,True], [True]*5]\n",
    "\n",
    "\tXWindow = [.1,.2,.1,.5,.1,.2,.1]\n",
    "\tYWindow = [.1,.6,.1]\n",
    "\toccurencesWindow = [[True]*7,[True,False,True,False,True,False,True],[True]*7]"
   ]
  },
  {
   "cell_type": "markdown",
   "metadata": {},
   "source": [
    "### These are just the parameters that give shape to the doors and windows of the house. By modifying them it's possible to put doors and windows of any shape."
   ]
  },
  {
   "cell_type": "code",
   "execution_count": null,
   "metadata": {
    "collapsed": true
   },
   "outputs": [],
   "source": [
    "\twith open(\"Lines_Files/porte.lines\", \"rb\") as csvfile:\n",
    "\t\tcsvReader = csv.reader(csvfile,delimiter=\",\")\n",
    "\t\tlistDoorsHoles = []\n",
    "\t\tcuboid = []\n",
    "\t\tinitHoles = True\n",
    "\t\tcont = 0\n",
    "\t\txDoors = 0\n",
    "\t\tyDiff = 0\n",
    "\t\tlistDoorsCreated = []\n",
    "\t\tfor row in csvReader:\n",
    "\t\t\tcont += 1\n",
    "\t\t\tcuboid.append([float(row[0])*xScale,float(row[1])*yScale])\n",
    "\t\t\tif cont <=2:\n",
    "\t\t\t\tif \tround(float(row[0]),1) == round(float(row[2]),1):\n",
    "\t\t\t\t\tyDiff = abs(float(row[3]) - float(row[1]))\n",
    "\t\t\t\t\n",
    "\t\t\t\telif round(float(row[1]),1) == round(float(row[3]),1):\n",
    "\t\t\t\t\txDiff = abs(float(row[2]) - float(row[0]))\n",
    "\n",
    "\t\t\tif cont == 4:\n",
    "\t\t\t\tlistDoorsHoles.append(MKPOL([cuboid,[[1,2,3,4]],None]))\n",
    "\t\t\t\tcuboid = []\n",
    "\t\t\t\tdoor = []\n",
    "\t\t\t\tcont = 0\n",
    "\t\t\t\tif xDiff < yDiff:\n",
    "\t\t\t\t\tdoor = ggpl_doors(XDoor,YDoor,occurencesDoor)(yDiff*yScale,.2,3)\n",
    "\t\t\t\t\tdoor = R([1,2])(-PI/2)(door)\n",
    "\t\t\t\telse:\n",
    "\t\t\t\t\tdoor = ggpl_doors(XDoor,YDoor,occurencesDoor)(xDiff*xScale,.2,3)\n",
    "\n",
    "\t\t\t\tdoor = T([1,2])([float(row[0])*xScale,float(row[1])*yScale])(door)\n",
    "\t\t\t\tlistDoorsCreated.append(door)"
   ]
  },
  {
   "cell_type": "markdown",
   "metadata": {},
   "source": [
    "### This fragment of code is very similar to the original one present in the workshop_08 but it adds the functionality to insert doors inside the holes created in the original version. To do so it's necessary to calculate the difference between the x (xDiff) and y (yDiff) of the points in the .lines file to determine where and how to put the created doors. The same reasoning has been made for the windows and the external doors."
   ]
  },
  {
   "cell_type": "markdown",
   "metadata": {},
   "source": [
    "## <font color = \"green\" > Complete version of the function ggpl_house_builder </font>"
   ]
  },
  {
   "cell_type": "code",
   "execution_count": null,
   "metadata": {
    "collapsed": true
   },
   "outputs": [],
   "source": [
    "\n",
    "import csv\n",
    "from pyplasm import *\n",
    "from workshop_07 import ggpl_doors\n",
    "from workshop_07 import ggpl_windows\n",
    "from workshop_03 import ggpl_stair\n",
    "from workshop_09 import builder_roof\n",
    "def ggpl_house_builder():\n",
    "\n",
    "\tXDoor = [.2,.4,.1,.4,.2]\n",
    "\tYDoor = [.3,.6,.1,.6,.1,.6,.1,.6,.3]\n",
    "\toccurencesDoor = [[True]*5, [True,False,True,False,True], [True]*5, [True,False,True,False,True], \n",
    "\t[True]*5, [True,False,True,False,True], [True]*5, [True,False,True,False,True], [True]*5]\n",
    "\n",
    "\tXWindow = [.1,.2,.1,.5,.1,.2,.1]\n",
    "\tYWindow = [.1,.6,.1]\n",
    "\toccurencesWindow = [[True]*7,[True,False,True,False,True,False,True],[True]*7]\n",
    "\t\"\"\" Creation of the external walls of the house\"\"\"\n",
    "\twith open(\"Lines_Files/muri_esterni.lines\", \"rb\") as csvfile:\n",
    "\t\tcsvReader = csv.reader(csvfile,delimiter=\",\")\n",
    "\t\texternalWalls_list = []\n",
    "\t\tfor row in csvReader :\n",
    "\t\t\texternalWalls_list.append(POLYLINE([[float(row[0]),float(row[1])],[float(row[2]),float(row[3])]]))\n",
    "\texternalWalls = STRUCT(externalWalls_list)\n",
    "\txScale = 16/SIZE([1])(externalWalls)[0]\n",
    "\tyScale = 16/SIZE([2])(externalWalls)[0]\n",
    "\texternalWalls = S([1,2])([xScale,yScale])(externalWalls)\n",
    "\tpavement = SOLIDIFY (externalWalls)\n",
    "\texternalWalls = OFFSET([.2,.2])(externalWalls)\n",
    "\texternalWalls = PROD([externalWalls,Q(3.5)])\n",
    "\tpavement = TEXTURE(\"Texture/parquet_texture.jpg\")(pavement)\n",
    "\troof = builder_roof()\n",
    "\troof = T([1,2])([float(row[0]),float(row[1])])(roof)\n",
    "\troof = S([1,2])([xScale,yScale])(roof)\n",
    "\troof = TEXTURE(\"Texture/roof_texture.png\")(roof)\n",
    "\n",
    "\t\"\"\" Creation of the internal walls of the house\"\"\"\n",
    "\twith open(\"Lines_Files/muri_interni.lines\", \"rb\") as csvfile:\n",
    "\t\tcsvReader = csv.reader(csvfile,delimiter=\",\")\n",
    "\t\tinternalWalls_list = []\n",
    "\t\tfor row in csvReader :\n",
    "\t\t\tinternalWalls_list.append(POLYLINE([[float(row[0]),float(row[1])],[float(row[2]),float(row[3])]]))\n",
    "\tinternalWalls = STRUCT(internalWalls_list)\n",
    "\tinternalWalls = S([1,2])([xScale,yScale])(internalWalls)\n",
    "\tinternalWalls = OFFSET([.2,.2])(internalWalls)\n",
    "\tinternalWalls = PROD([internalWalls,Q(3)])\n",
    "\t\n",
    "\t\"\"\"Creation of the doors of the house\"\"\"\n",
    "\twith open(\"Lines_Files/porte.lines\", \"rb\") as csvfile:\n",
    "\t\tcsvReader = csv.reader(csvfile,delimiter=\",\")\n",
    "\t\tlistDoorsHoles = []\n",
    "\t\tcuboid = []\n",
    "\t\tinitHoles = True\n",
    "\t\tcont = 0\n",
    "\t\txDoors = 0\n",
    "\t\tyDiff = 0\n",
    "\t\tlistDoorsCreated = []\n",
    "\t\tfor row in csvReader:\n",
    "\t\t\tcont += 1\n",
    "\t\t\tcuboid.append([float(row[0])*xScale,float(row[1])*yScale])\n",
    "\t\t\tif cont <=2:\n",
    "\t\t\t\tif \tround(float(row[0]),1) == round(float(row[2]),1):\n",
    "\t\t\t\t\tyDiff = abs(float(row[3]) - float(row[1]))\n",
    "\t\t\t\t\n",
    "\t\t\t\telif round(float(row[1]),1) == round(float(row[3]),1):\n",
    "\t\t\t\t\txDiff = abs(float(row[2]) - float(row[0]))\n",
    "\n",
    "\t\t\tif cont == 4:\n",
    "\t\t\t\tlistDoorsHoles.append(MKPOL([cuboid,[[1,2,3,4]],None]))\n",
    "\t\t\t\tcuboid = []\n",
    "\t\t\t\tdoor = []\n",
    "\t\t\t\tcont = 0\n",
    "\t\t\t\tif xDiff < yDiff:\n",
    "\t\t\t\t\tdoor = ggpl_doors(XDoor,YDoor,occurencesDoor)(yDiff*yScale,.2,3)\n",
    "\t\t\t\t\tdoor = T([1,2])([-0.1,0.1])(door)\n",
    "\t\t\t\t\tdoor = R([1,2])(-PI/2)(door)\n",
    "\t\t\t\telse:\n",
    "\t\t\t\t\tdoor = ggpl_doors(XDoor,YDoor,occurencesDoor)(xDiff*xScale,.2,3)\n",
    "\t\t\t\t\tdoor = T([1,2])([0.2,-0.2])(door)\n",
    "\t\t\t\tdoor = T([1,2])([float(row[0])*xScale,float(row[1])*yScale])(door)\n",
    "\t\t\t\tlistDoorsCreated.append(door)\n",
    "\t\n",
    "\t\"\"\" Creation of the windows of the house\"\"\"\t\n",
    "\twith open(\"Lines_Files/finestre.lines\", \"rb\") as csvfile:\n",
    "\t\tcsvReader = csv.reader(csvfile,delimiter=\",\")\n",
    "\t\tlistWindowsHoles = []\n",
    "\t\tlistWindowsCreated = []\n",
    "\t\tcuboid = []\n",
    "\t\tcont = 0\n",
    "\t\tfor row in csvReader:\n",
    "\t\t\tcont += 1\n",
    "\t\t\tcuboid.append([float(row[0])*xScale,float(row[1])*yScale])\n",
    "\t\t\tif cont <=2:\n",
    "\t\t\t\tif \tround(float(row[0]),1) == round(float(row[2]),1):\n",
    "\t\t\t\t\tyDiff = abs(float(row[3]) - float(row[1]))\n",
    "\t\t\t\t\n",
    "\t\t\t\telif round(float(row[1]),1) == round(float(row[3]),1):\n",
    "\t\t\t\t\txDiff = abs(float(row[2]) - float(row[0]))\n",
    "\t\t\tif cont == 4:\n",
    "\t\t\t\tlistWindowsHoles.append(MKPOL([cuboid,[[1,2,3,4]],None]))\n",
    "\t\t\t\tbase = MKPOL([cuboid,[[1,2,3,4]],None])\n",
    "\t\t\t\tbase = OFFSET([.1,.1])(base)\n",
    "\t\t\t\tbase = PROD([base,Q(1.5)])\n",
    "\t\t\t\tcuboid = []\n",
    "\t\t\t\tcont = 0\n",
    "\t\t\t\tif xDiff < yDiff:\n",
    "\t\t\t\t\twindow = ggpl_windows(XWindow,YWindow,occurencesWindow)(yDiff*yScale,0.2,1.5)\n",
    "\t\t\t\t\twindow = R([1,2])(-PI/2)(window)\n",
    "\t\t\t\telse:\n",
    "\t\t\t\t\twindow = ggpl_windows(XWindow,YWindow,occurencesWindow)((xDiff*xScale),.2,1.5)\n",
    "\t\t\t\t\twindow = T(2)(-0.2)(window)\n",
    "\t\t\t\t\n",
    "\t\t\t\twindow = T([1,2,3])([float(row[0])*xScale, float(row[1])*yScale,1])(window)\n",
    "\t\t\t\tlistWindowsCreated.append(window)\n",
    "\n",
    "\t\"\"\" Creation of the external doors of the house\"\"\"\n",
    "\twith open(\"Lines_Files/porte_esterne.lines\",\"rb\") as csvfile:\n",
    "\t\tcsvReader = csv.reader(csvfile, delimiter=\",\")\n",
    "\t\tlistExternalDoorsHoles = []\n",
    "\t\tcuboid = []\n",
    "\t\tinitHoles = True\n",
    "\t\tcont = 0\n",
    "\t\txDiff = 0\n",
    "\t\tyDiff = 0\n",
    "\t\tlistExternalDoorsCreated = []\n",
    "\t\tfor row in csvReader:\n",
    "\t\t\tcont += 1\n",
    "\t\t\tcuboid.append([float(row[0]) * xScale, float(row[1]) * yScale])\n",
    "\t\t\tif cont <= 2:\n",
    "\t\t\t\tif round(float(row[0]), 1) == round(float(row[2]), 1):\n",
    "\t\t\t\t\tyDiff = abs(float(row[3]) - float(row[1]))\n",
    "\n",
    "\t\t\t\telif round(float(row[1]), 1) == round(float(row[3]), 1):\n",
    "\t\t\t\t\txDiff = abs(float(row[2]) - float(row[0]))\n",
    "\n",
    "\t\t\tif cont == 4:\n",
    "\t\t\t\tlistExternalDoorsHoles.append(MKPOL([cuboid, [[1, 2, 3, 4]], None]))\n",
    "\t\t\t\tcuboid = []\n",
    "\t\t\t\tdoor = []\n",
    "\t\t\t\tcont = 0\n",
    "\t\t\t\tif xDiff < yDiff:\n",
    "\t\t\t\t\tdoor = ggpl_doors(XDoor, YDoor, occurencesDoor)(yDiff * yScale, .2, 2.5)\n",
    "\t\t\t\t\tdoor = T([1, 2])([-0.1, 0.1])(door)\n",
    "\t\t\t\t\tdoor = R([1, 2])(-PI / 2)(door)\n",
    "\t\t\t\t\n",
    "\t\t\t\telse:\n",
    "\t\t\t\t\tdoor = ggpl_doors(XDoor, YDoor, occurencesDoor)(xDiff * xScale, .2, 2.5)\n",
    "\t\t\t\t\tdoor = T( 2)( -0.1)(door)\n",
    "\n",
    "\t\t\t\tdoor = T([1, 2])([float(row[0]) * xScale, float(row[1]) * yScale])(door)\n",
    "\t\t\t\tlistExternalDoorsCreated.append(door)\n",
    "\t\t\t\n",
    "\t\tstair = ggpl_stair(8.,6.,3.5)\n",
    "\t\tstair = R([1,2])(PI)(stair)\n",
    "\t\tstair = T([1,2])([float(row[0]) * xScale+2.5, float(row[1]) * yScale+6])(stair)\n",
    "\t\n",
    "\t\"\"\"Creation of the garden of the house\"\"\"\t\t\n",
    "\twith open(\"Lines_Files/giardino.lines\", \"rb\") as csvfile:\n",
    "\t\tcsvReader = csv.reader(csvfile,delimiter=\",\")\n",
    "\t\tgardenBordersList = []\n",
    "\t\tfor row in csvReader :\n",
    "\t\t\tgardenBordersList.append(POLYLINE([[float(row[0]),float(row[1])],[float(row[2]),float(row[3])]]))\n",
    "\tgardenBorders = STRUCT(gardenBordersList)\n",
    "\tgarden = SOLIDIFY(gardenBorders)\n",
    "\tgarden = S([1,2])([xScale*1.5,yScale*1.5])(garden)\n",
    "\tgarden = TEXTURE(\"Texture/grass_texture.jpg\")(garden)\n",
    "\n",
    "\t\"\"\"assembling all together\"\"\"\n",
    "\tdoors = STRUCT(listDoorsHoles)\n",
    "\texternalDoorsHoles = STRUCT(listExternalDoorsHoles)\n",
    "\twindows = STRUCT(listWindowsHoles)\n",
    "\twindows = OFFSET([0.05,0.05])(windows)\n",
    "\twindows = PROD([windows,Q(1.5)])\n",
    "\twindows = T(3)(1)(windows)\n",
    "\tdoors = OFFSET([.2,.15])(doors)\n",
    "\tdoors = PROD([doors,Q(3)])\n",
    "\texternalDoorsHoles = OFFSET([0,.15])(externalDoorsHoles)\n",
    "\texternalDoorsHoles = PROD([externalDoorsHoles,Q(2.5)])\n",
    "\texternalDoorsCreated = STRUCT(listExternalDoorsCreated)\t\n",
    "\tdoorsCreated = STRUCT(listDoorsCreated)\n",
    "\twindowsCreated = STRUCT(listWindowsCreated)\n",
    "\texternalWalls = DIFFERENCE([externalWalls,windows])\n",
    "\texternalWalls = DIFFERENCE([externalWalls,externalDoorsHoles])\n",
    "\texternalWalls = TEXTURE(\"Texture/external_walls.jpg\")(externalWalls)\n",
    "\texternalWalls = STRUCT([externalWalls,windowsCreated])\n",
    "\texternalWalls = STRUCT([externalWalls, externalDoorsCreated])\n",
    "\tinternalWalls = DIFFERENCE([internalWalls,doors])\n",
    "\tinternalWalls = TEXTURE(\"Texture/internal_walls.jpg\")(internalWalls)\n",
    "\tinternalWalls = STRUCT([internalWalls,doorsCreated])\n",
    "\twalls = STRUCT([internalWalls,externalWalls])\n",
    "\thouse = STRUCT([walls,pavement])\n",
    "\thouse = STRUCT([house,T(3)(3.5),house])\n",
    "\thouse = STRUCT([house,T(3)(7),roof])\n",
    "\thouse = STRUCT([house,stair])\n",
    "\thouse = STRUCT([house,garden])\n",
    "\treturn house\n"
   ]
  },
  {
   "cell_type": "markdown",
   "metadata": {},
   "source": [
    "# <font color = \"green\"> Examples </font> "
   ]
  },
  {
   "cell_type": "markdown",
   "metadata": {},
   "source": [
    "### In the following sections there will be some of the results given by the execution of the code."
   ]
  },
  {
   "cell_type": "markdown",
   "metadata": {},
   "source": [
    "## <font color = \"green\"> Model </font>"
   ]
  },
  {
   "cell_type": "markdown",
   "metadata": {},
   "source": [
    "### Final result of the computation"
   ]
  },
  {
   "cell_type": "markdown",
   "metadata": {},
   "source": [
    "<img src =\"files/Risultati/Modello_1/model1_1.png\">\n",
    "<img src =\"files/Risultati/Modello_1/model1_2.png\">"
   ]
  },
  {
   "cell_type": "markdown",
   "metadata": {},
   "source": [
    "## <font color = \"green\"> Details of the house </font>"
   ]
  },
  {
   "cell_type": "markdown",
   "metadata": {},
   "source": [
    "<img src = \"files/Risultati/Modello_1/model1_interni.png\">"
   ]
  },
  {
   "cell_type": "markdown",
   "metadata": {},
   "source": [
    "### The furniture of the house has been created by calling the functions developed in the previous workshops. Therefore it's possible to change the models of the doors and windows of the house by modifiying the parameters given to the functions ggpl_doors and ggpl_windows."
   ]
  },
  {
   "cell_type": "markdown",
   "metadata": {},
   "source": [
    "<img src = \"files/Risultati/Modello_1/model1_front.png\" >"
   ]
  },
  {
   "cell_type": "markdown",
   "metadata": {},
   "source": [
    "### The  stairs have been created by calling the function developed in the workshop_03."
   ]
  }
 ],
 "metadata": {
  "kernelspec": {
   "display_name": "Python 2",
   "language": "python",
   "name": "python2"
  },
  "language_info": {
   "codemirror_mode": {
    "name": "ipython",
    "version": 2
   },
   "file_extension": ".py",
   "mimetype": "text/x-python",
   "name": "python",
   "nbconvert_exporter": "python",
   "pygments_lexer": "ipython2",
   "version": "2.7.12"
  }
 },
 "nbformat": 4,
 "nbformat_minor": 1
}
