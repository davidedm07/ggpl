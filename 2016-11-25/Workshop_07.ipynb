{
 "cells": [
  {
   "cell_type": "markdown",
   "metadata": {},
   "source": [
    "# Workshop 07"
   ]
  },
  {
   "cell_type": "markdown",
   "metadata": {},
   "source": [
    "## Design of Doors and Windows"
   ]
  },
  {
   "cell_type": "markdown",
   "metadata": {},
   "source": [
    "## Reference Models of Doors and Windows"
   ]
  },
  {
   "cell_type": "markdown",
   "metadata": {},
   "source": [
    "### This workshop presents 2 functions that allow to create doors and windows of a specified size. The following images are used as reference examples for the execution of the program. "
   ]
  },
  {
   "cell_type": "markdown",
   "metadata": {},
   "source": [
    "<img src=\"files/door1.jpg\">\n",
    "<img src=\"files/door2.jpg\">\n",
    "<img src=\"files/window1.jpg\">\n"
   ]
  },
  {
   "cell_type": "markdown",
   "metadata": {},
   "source": [
    "## Description of the Code"
   ]
  },
  {
   "cell_type": "markdown",
   "metadata": {},
   "source": [
    "### Resize Function"
   ]
  },
  {
   "cell_type": "markdown",
   "metadata": {},
   "source": [
    "### The resize function performs its task by scanning the list of list of bools and calculating how many glass cells are present in the shape of the door/window. The dimension of the glass cell will be increased or decreased in order to fill the box. \n"
   ]
  },
  {
   "cell_type": "code",
   "execution_count": 2,
   "metadata": {
    "collapsed": true
   },
   "outputs": [],
   "source": [
    "\"\"\"Resize if a function that has the task to adjust the given dimensions of the door/window in\n",
    "order to fit the dimensions of the box passed as parameter.\n",
    "@Param:\n",
    "x : list of distances of a x points calculated from the previous one \n",
    "y : list of distances of a y points calculated from the previous one\n",
    "occurences: list of lists of bools that indicates the nature of the cells (wooden, glass)\n",
    "dx: dimension of the box on the x axis\n",
    "dz: dimension of the box on the z axis\"\"\"\n",
    "def resize(x,y,occurences,dx,dz):\n",
    "\tsumY = sum(y)\n",
    "\tsumX = sum(x)\n",
    "\temptyCells = 0\n",
    "\tfor j in range(len(y)):\n",
    "\t\tfor i in range(len(x)):\n",
    "\t\t\tif occurences[j][i] == False:\n",
    "\t\t\t\temptyCells += 1\n",
    "\tdiffX = (dx-sumX)/emptyCells\n",
    "\tdiffY = (dz-sumY)/emptyCells\n",
    "\n",
    "\tfor j in range(len(y)):\n",
    "\t\tfor i in range(len(x)):\n",
    "\t\t\tif occurences[j][i] == False:\n",
    "\t\t\t\tx[i]+=diffX\n",
    "\t\t\t\ty[j]+= diffY"
   ]
  },
  {
   "cell_type": "markdown",
   "metadata": {},
   "source": [
    "## Door Functions"
   ]
  },
  {
   "cell_type": "markdown",
   "metadata": {
    "collapsed": true
   },
   "source": [
    "### The ggpl_doors function performs its task by calling a curried function named doors. This function creates the door based on the dimensions passed as parameters after resizing them by calling the resize function. After creating the door the doors function creates the lock and assigns the textures to the result."
   ]
  },
  {
   "cell_type": "code",
   "execution_count": null,
   "metadata": {
    "collapsed": true
   },
   "outputs": [],
   "source": [
    "\n",
    "\"\"\"Function that creates a door of the given dimensions.\n",
    "This function calls another function door (curried one) that creates the door according to the dimensions of a box\n",
    "passed as parameters. The door function calls the resize metod. \n",
    "@Param:\n",
    "x : list of distances of a x points calculated from the previous one \n",
    "y : list of distances of a y points calculated from the previous one\n",
    "occurences: matrix of bools that indicates the nature of the cells (wooden, glass)\n",
    "dx: dimension of the box on the x axis\n",
    "dz: dimension of the box on the z axis\"\"\"\n",
    "def ggpl_doors(x,y,occurences):\n",
    "\tdef doors(dx,dy,dz):\n",
    "\t\ts=STRUCT([CUBOID([0,0,0])])\n",
    "\t\tresize(x,y,occurences,dx,dz)\n",
    "\t\tfor i in range(len(x)):\n",
    "\t\t\t#counter for translation\n",
    "\t\t\tsumX=sum(x[:i])\n",
    "\t\t\tfor j in range(len(y)):\n",
    "\t\t\t\tsumY=sum(y[:j])\n",
    "\t\t\t\tif occurences[j][i]==True:\n",
    "\t\t\t\t\tcube = CUBOID([x[i],y[j],dy])\n",
    "\t\t\t\t\tcube = TEXTURE([\"Texture/wooden_texture.jpg\"])(cube) \n",
    "\t\t\t\t\ts=STRUCT([s,T([1,2])([sumX,sumY])(cube)])\n",
    "\t\t\t\telse:\n",
    "\t\t\t\t\tcube = CUBOID([x[i],y[j],dy])\n",
    "\t\t\t\t\tcube = TEXTURE([\"Texture/glass_texture_2.jpg\"])(cube) \n",
    "\t\t\t\t\ts=STRUCT([s,T([1,2])([sumX,sumY])(cube)])\n",
    "\n",
    "\t\ts = R([2,3])(PI/2)(s)\n",
    "\t\ts = T(2)(dy)(s)\n",
    "\t\tlockBase = CUBOID([.01,0.1,0.5])\n",
    "\t\tlockCylinder = CYLINDER([0.02,0.1])(30)\n",
    "\t\tlockCylinder = R([1,3])(PI/2)(lockCylinder)\n",
    "\t\tlockOrizzontalCylinder =CYLINDER([0.02,0.2])(30)\n",
    "\t\tlockOrizzontalCylinder = R([2,3])(PI/2)(lockOrizzontalCylinder) \n",
    "\t\tlock = STRUCT([lockBase,T([2,3])([0.05,0.3]),lockCylinder])\n",
    "\t\tlock = STRUCT([lock,T([1,2,3])([-0.1,0.065,0.3]),lockOrizzontalCylinder])\n",
    "\t\tlock = TEXTURE([\"Texture/gold_texture.jpg\"])(lock)\n",
    "\t\tlock = R([1,2])(-PI/2)(lock)\n",
    "\t\tdoor = STRUCT([s,SKEL_1(CUBOID([dx,dy,dz]))])\n",
    "\t\tdoor = STRUCT([door,T([1,2,3])([dx-0.15,dy+0.01,dz/2.5]),lock])\n",
    "\t\treturn door\n",
    "\treturn doors"
   ]
  },
  {
   "cell_type": "markdown",
   "metadata": {},
   "source": [
    "## Window Functions"
   ]
  },
  {
   "cell_type": "markdown",
   "metadata": {
    "collapsed": true
   },
   "source": [
    "### The ggpl_windows function performs the same actions made by the ggpl_doors function but assigning different textures for the materials of the window created."
   ]
  },
  {
   "cell_type": "code",
   "execution_count": null,
   "metadata": {
    "collapsed": true
   },
   "outputs": [],
   "source": [
    "\"\"\"Function that creates a window by calling a curried function.\n",
    "This function has the task to create the window and to resize it in order to fill a bo of given \n",
    "dimensions.\n",
    "@Param : The same of the door function\"\"\"\n",
    "def ggpl_windows(x,y,occurences):\n",
    "\tdef windows(dx,dy,dz):\n",
    "\t\ts=STRUCT([CUBOID([0,0,0])])\n",
    "\t\tresize(x,y,occurences,dx,dz)\n",
    "\t\tfor i in range(len(x)):\n",
    "\t\t\t#counter for translation\n",
    "\t\t\tsumX=sum(x[:i])\n",
    "\t\t\tfor j in range(len(y)):\n",
    "\t\t\t\tsumY=sum(y[:j])\n",
    "\t\t\t\tif occurences[j][i]==True:\n",
    "\t\t\t\t\tcube=CUBOID([x[i],y[j],dy])\n",
    "\t\t\t\t\tcube = TEXTURE([\"Texture/white_wood_texture.jpg\"])(cube) \n",
    "\t\t\t\t\ts=STRUCT([s,T([1,2])([sumX,sumY])(cube)])\n",
    "\t\t\t\telse:\n",
    "\t\t\t\t\tcube = CUBOID([x[i],y[j],dy])\n",
    "\t\t\t\t\tcube = TEXTURE([\"Texture/glass_texture.jpg\"])(cube) \n",
    "\t\t\t\t\ts=STRUCT([s,T([1,2])([sumX,sumY])(cube)])\n",
    "\t\twindow = R([2,3])(PI/2)(s)\n",
    "\t\twindow = T(2)(dy)(window)\n",
    "\n",
    "\t\treturn window\n",
    "\treturn window"
   ]
  },
  {
   "cell_type": "markdown",
   "metadata": {},
   "source": [
    "## Complete Code"
   ]
  },
  {
   "cell_type": "code",
   "execution_count": 2,
   "metadata": {
    "collapsed": false
   },
   "outputs": [],
   "source": [
    "from pyplasm import *\n",
    "\n",
    "\n",
    "\"\"\"Resize if a function that has the task to adjust the given dimensions of the door/window in\n",
    "order to fit the dimensions of the box passed as parameter.\n",
    "@Param:\n",
    "x : list of distances of a x points calculated from the previous one \n",
    "y : list of distances of a y points calculated from the previous one\n",
    "occurences: matrix of bools that indicates the nature of the cells (wooden, glass)\n",
    "dx: dimension of the box on the x axis\n",
    "dz: dimension of the box on the z axis\"\"\"\n",
    "def resize(x,y,occurences,dx,dz):\n",
    "\tsumY = sum(y)\n",
    "\tsumX = sum(x)\n",
    "\temptyCells = 0\n",
    "\tfor j in range(len(y)):\n",
    "\t\tfor i in range(len(x)):\n",
    "\t\t\tif occurences[j][i] == False:\n",
    "\t\t\t\temptyCells += 1\n",
    "\tdiffX = (dx-sumX)/emptyCells\n",
    "\tdiffY = (dz-sumY)/emptyCells\n",
    "\n",
    "\tfor j in range(len(y)):\n",
    "\t\tfor i in range(len(x)):\n",
    "\t\t\tif occurences[j][i] == False:\n",
    "\t\t\t\tx[i]+=diffX\n",
    "\t\t\t\ty[j]+= diffY\n",
    "\t\t\t\t\n",
    "\n",
    "\"\"\"Function that creates a door of the given dimensions.\n",
    "This function calls another function door (curried one) that creates the door according to the dimensions of a box\n",
    "passed as parameters. The door function calls the resize metod. \n",
    "@Param:\n",
    "x : list of distances of a x points calculated from the previous one \n",
    "y : list of distances of a y points calculated from the previous one\n",
    "occurences: matrix of bools that indicates the nature of the cells (wooden, glass)\n",
    "dx: dimension of the box on the x axis\n",
    "dz: dimension of the box on the z axis\"\"\"\n",
    "def ggpl_doors(x,y,occurences):\n",
    "\tdef doors(dx,dy,dz):\n",
    "\t\ts=STRUCT([CUBOID([0,0,0])])\n",
    "\t\tresize(x,y,occurences,dx,dz)\n",
    "\t\tfor i in range(len(x)):\n",
    "\t\t\t#counter for translation\n",
    "\t\t\tsumX=sum(x[:i])\n",
    "\t\t\tfor j in range(len(y)):\n",
    "\t\t\t\tsumY=sum(y[:j])\n",
    "\t\t\t\tif occurences[j][i]==True:\n",
    "\t\t\t\t\tcube = CUBOID([x[i],y[j],dy])\n",
    "\t\t\t\t\tcube = TEXTURE([\"Texture/wooden_texture.jpg\"])(cube) \n",
    "\t\t\t\t\ts=STRUCT([s,T([1,2])([sumX,sumY])(cube)])\n",
    "\t\t\t\telse:\n",
    "\t\t\t\t\tcube = CUBOID([x[i],y[j],dy])\n",
    "\t\t\t\t\tcube = TEXTURE([\"Texture/glass_texture_2.jpg\"])(cube) \n",
    "\t\t\t\t\ts=STRUCT([s,T([1,2])([sumX,sumY])(cube)])\n",
    "\n",
    "\t\ts = R([2,3])(PI/2)(s)\n",
    "\t\ts = T(2)(dy)(s)\n",
    "\t\tlockBase = CUBOID([.01,0.1,0.5])\n",
    "\t\tlockCylinder = CYLINDER([0.02,0.1])(30)\n",
    "\t\tlockCylinder = R([1,3])(PI/2)(lockCylinder)\n",
    "\t\tlockOrizzontalCylinder =CYLINDER([0.02,0.2])(30)\n",
    "\t\tlockOrizzontalCylinder = R([2,3])(PI/2)(lockOrizzontalCylinder) \n",
    "\t\tlock = STRUCT([lockBase,T([2,3])([0.05,0.3]),lockCylinder])\n",
    "\t\tlock = STRUCT([lock,T([1,2,3])([-0.1,0.065,0.3]),lockOrizzontalCylinder])\n",
    "\t\tlock = TEXTURE([\"Texture/gold_texture.jpg\"])(lock)\n",
    "\t\tlock = R([1,2])(-PI/2)(lock)\n",
    "\t\tdoor = STRUCT([s,SKEL_1(CUBOID([dx,dy,dz]))])\n",
    "\t\tdoor = STRUCT([door,T([1,2,3])([dx-0.15,dy+0.01,dz/2.5]),lock])\n",
    "\t\treturn door\n",
    "        \t\t\t\n",
    "\treturn doors\n",
    "\n",
    "\"\"\"Function that creates a window by calling a curried function.\n",
    "This function has the task to create the window and to resize it in order to fill a bo of given \n",
    "dimensions.\n",
    "@Param : The same of the door function\"\"\"\n",
    "def ggpl_windows(x,y,occurences):\n",
    "\tdef windows(dx,dy,dz):\n",
    "\t\ts=STRUCT([CUBOID([0,0,0])])\n",
    "\t\tresize(x,y,occurences,dx,dz)\n",
    "\t\tfor i in range(len(x)):\n",
    "\t\t\t#counter for translation\n",
    "\t\t\tsumX=sum(x[:i])\n",
    "\t\t\tfor j in range(len(y)):\n",
    "\t\t\t\tsumY=sum(y[:j])\n",
    "\t\t\t\tif occurences[j][i]==True:\n",
    "\t\t\t\t\tcube=CUBOID([x[i],y[j],dy])\n",
    "\t\t\t\t\tcube = TEXTURE([\"Texture/white_wood_texture.jpg\"])(cube) \n",
    "\t\t\t\t\ts=STRUCT([s,T([1,2])([sumX,sumY])(cube)])\n",
    "\t\t\t\telse:\n",
    "\t\t\t\t\tcube = CUBOID([x[i],y[j],dy])\n",
    "\t\t\t\t\tcube = TEXTURE([\"Texture/glass_texture.jpg\"])(cube) \n",
    "\t\t\t\t\ts=STRUCT([s,T([1,2])([sumX,sumY])(cube)])\n",
    "\t\twindow = R([2,3])(PI/2)(s)\n",
    "\t\twindow = T(2)(dy)(window)\n",
    "\n",
    "\t\treturn window\n",
    "\treturn windows\t\t\n",
    "\t\n",
    "if __name__=='__main__':\n",
    "\t#Window1\n",
    "\tXWindow = [.1,.2,.1,.5,.1,.2,.1]\n",
    "\tYWindow = [.1,.6,.1]\n",
    "\toccurencesWindow = [[True]*7,[True,False,True,False,True,False,True],[True]*7]\n",
    "\t#Door1\t\t  \t\t\n",
    "\tXDoor = [.2,.4,.1,.4,.2]\n",
    "\tYDoor = [.3,.6,.1,.6,.1,.6,.1,.6,.3]\n",
    "\toccurencesDoor = [[True]*5, [True,False,True,False,True], [True]*5, [True,False,True,False,True], \n",
    "\t[True]*5, [True,False,True,False,True], [True]*5, [True,False,True,False,True], [True]*5]\n",
    "\t#Door2\n",
    "\t\"\"\"\n",
    "\tXDoor = [.2,.2,.3,.2,.2]\n",
    "\tYDoor = [.4,.4,.4,.4,.4,.4,.4]\n",
    "\toccurencesDoor = [[True]*5,[True,False,False,True,True],[True]*5,\n",
    "\t[True,True,False,False,True],[True]*5,[True,False,False,True,True],[True]*5]\n",
    "\t\"\"\"\n",
    "\tVIEW(ggpl_windows(XWindow,YWindow,occurencesWindow)(3,0.05,2))\n",
    "\tVIEW(ggpl_doors(XDoor,YDoor,occurencesDoor)(1.5,0.1,3))"
   ]
  },
  {
   "cell_type": "markdown",
   "metadata": {
    "collapsed": true
   },
   "source": [
    "## Examples"
   ]
  },
  {
   "cell_type": "markdown",
   "metadata": {},
   "source": [
    "### Example 1 "
   ]
  },
  {
   "cell_type": "markdown",
   "metadata": {},
   "source": [
    "### Parameters "
   ]
  },
  {
   "cell_type": "code",
   "execution_count": null,
   "metadata": {
    "collapsed": true
   },
   "outputs": [],
   "source": [
    "    XDoor = [.2,.4,.1,.4,.2]\n",
    "\tYDoor = [.3,.6,.1,.6,.1,.6,.1,.6,.3]\n",
    "\t\n",
    "\toccurencesDoor = [[True]*5, [True,False,True,False,True], [True]*5, [True,False,True,False,True], \n",
    "\t[True]*5, [True,False,True,False,True], [True]*5, [True,False,True,False,True], [True]*5]\n",
    "    dx = 1.5\n",
    "    dy = 0.1\n",
    "    dz = 3"
   ]
  },
  {
   "cell_type": "markdown",
   "metadata": {},
   "source": [
    "<img src = \"files/Examples/door1_1.png\">"
   ]
  },
  {
   "cell_type": "markdown",
   "metadata": {},
   "source": [
    "### Example 2"
   ]
  },
  {
   "cell_type": "markdown",
   "metadata": {},
   "source": [
    "### Parameters "
   ]
  },
  {
   "cell_type": "code",
   "execution_count": null,
   "metadata": {
    "collapsed": true
   },
   "outputs": [],
   "source": [
    "    XDoor = [.2,.4,.1,.4,.2]\n",
    "\tYDoor = [.3,.6,.1,.6,.1,.6,.1,.6,.3]\n",
    "\t\n",
    "\toccurencesDoor = [[True]*5, [True,False,True,False,True], [True]*5, [True,False,True,False,True], \n",
    "\t[True]*5, [True,False,True,False,True], [True]*5, [True,False,True,False,True], [True]*5]\n",
    "    dx = 4\n",
    "    dy = 0.1\n",
    "    dz = 6"
   ]
  },
  {
   "cell_type": "markdown",
   "metadata": {},
   "source": [
    "<img src=\"files/Examples/door1_2.png\">"
   ]
  },
  {
   "cell_type": "markdown",
   "metadata": {},
   "source": [
    "### Examples 3"
   ]
  },
  {
   "cell_type": "markdown",
   "metadata": {},
   "source": [
    "### Parameters "
   ]
  },
  {
   "cell_type": "code",
   "execution_count": null,
   "metadata": {
    "collapsed": true
   },
   "outputs": [],
   "source": [
    "    XDoor = [.2,.2,.3,.2,.2]\n",
    "\tYDoor = [.4,.4,.4,.4,.4,.4,.4]\n",
    "\toccurencesDoor = [[True]*5,[True,False,False,True,True],[True]*5,\n",
    "\t[True,True,False,False,True],[True]*5,[True,False,False,True,True],[True]*5]\n",
    "    dx = 1.5\n",
    "    dy = 0.1\n",
    "    dz = 3"
   ]
  },
  {
   "cell_type": "markdown",
   "metadata": {},
   "source": [
    "<img src= \"files/Examples/door2_1.png\">"
   ]
  },
  {
   "cell_type": "markdown",
   "metadata": {},
   "source": [
    "### Examples 4"
   ]
  },
  {
   "cell_type": "markdown",
   "metadata": {},
   "source": [
    "### Parameters "
   ]
  },
  {
   "cell_type": "code",
   "execution_count": null,
   "metadata": {
    "collapsed": true
   },
   "outputs": [],
   "source": [
    "   XDoor = [.2,.2,.3,.2,.2]\n",
    "\tYDoor = [.4,.4,.4,.4,.4,.4,.4]\n",
    "\toccurencesDoor = [[True]*5,[True,False,False,True,True],[True]*5,\n",
    "\t[True,True,False,False,True],[True]*5,[True,False,False,True,True],[True]*5]\n",
    "    dx = 2\n",
    "    dy = 0.1\n",
    "    dz = 4"
   ]
  },
  {
   "cell_type": "markdown",
   "metadata": {},
   "source": [
    "<img src=\"files/Examples/door2_2.png\">"
   ]
  },
  {
   "cell_type": "markdown",
   "metadata": {},
   "source": [
    "### Examples 5"
   ]
  },
  {
   "cell_type": "markdown",
   "metadata": {},
   "source": [
    "### Parameters "
   ]
  },
  {
   "cell_type": "code",
   "execution_count": null,
   "metadata": {
    "collapsed": true
   },
   "outputs": [],
   "source": [
    "    XWindow = [.1,.2,.1,.5,.1,.2,.1]\n",
    "\tYWindow = [.1,.6,.1]\n",
    "\toccurencesWindow = [[True]*7,[True,False,True,False,True,False,True],[True]*7]\n",
    "    dx = 3\n",
    "    dy = 0.05\n",
    "    dz = 2"
   ]
  },
  {
   "cell_type": "markdown",
   "metadata": {},
   "source": [
    "<img src = \"files/Examples/window1_1.png\">"
   ]
  },
  {
   "cell_type": "markdown",
   "metadata": {},
   "source": [
    "### Examples 6"
   ]
  },
  {
   "cell_type": "markdown",
   "metadata": {},
   "source": [
    "### Parameters "
   ]
  },
  {
   "cell_type": "code",
   "execution_count": null,
   "metadata": {
    "collapsed": true
   },
   "outputs": [],
   "source": [
    "    XWindow = [.1,.2,.1,.5,.1,.2,.1]\n",
    "\tYWindow = [.1,.6,.1]\n",
    "\toccurencesWindow = [[True]*7,[True,False,True,False,True,False,True],[True]*7]\n",
    "    dx = 3\n",
    "    dy = 0.05\n",
    "    dz = 2"
   ]
  },
  {
   "cell_type": "markdown",
   "metadata": {},
   "source": [
    "<img src=\"files/Examples/window1_2.png\">"
   ]
  },
  {
   "cell_type": "code",
   "execution_count": null,
   "metadata": {
    "collapsed": true
   },
   "outputs": [],
   "source": []
  }
 ],
 "metadata": {
  "kernelspec": {
   "display_name": "Python 2",
   "language": "python",
   "name": "python2"
  },
  "language_info": {
   "codemirror_mode": {
    "name": "ipython",
    "version": 2
   },
   "file_extension": ".py",
   "mimetype": "text/x-python",
   "name": "python",
   "nbconvert_exporter": "python",
   "pygments_lexer": "ipython2",
   "version": "2.7.12"
  }
 },
 "nbformat": 4,
 "nbformat_minor": 1
}
