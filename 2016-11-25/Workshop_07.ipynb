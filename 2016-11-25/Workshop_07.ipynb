{
 "cells": [
  {
   "cell_type": "markdown",
   "metadata": {},
   "source": [
    "# Workshop 07"
   ]
  },
  {
   "cell_type": "markdown",
   "metadata": {},
   "source": [
    "## Design of Doors and Windows"
   ]
  },
  {
   "cell_type": "markdown",
   "metadata": {},
   "source": [
    "## Reference Models of Doors and Windows"
   ]
  },
  {
   "cell_type": "markdown",
   "metadata": {},
   "source": [
    "<img src=\"files/door1.jpg\">\n",
    "<img src=\"files/door2.jpg\">\n",
    "<img src=\"files/window1.jpg\">\n"
   ]
  },
  {
   "cell_type": "markdown",
   "metadata": {},
   "source": [
    "## Description of the Code"
   ]
  },
  {
   "cell_type": "markdown",
   "metadata": {},
   "source": [
    "### Resize Function"
   ]
  },
  {
   "cell_type": "markdown",
   "metadata": {},
   "source": [
    "### The resize function performs its task by scanning the list of list of bools and calculating how many glass cells are present in the shape of the door/window. The dimension of the glass cell will be increased or decreased in order to fill the box. \n"
   ]
  },
  {
   "cell_type": "code",
   "execution_count": 2,
   "metadata": {
    "collapsed": true
   },
   "outputs": [],
   "source": [
    "\"\"\"Resize if a function that has the task to adjust the given dimensions of the door/window in\n",
    "order to fit the dimensions of the box passed as parameter.\n",
    "@Param:\n",
    "x : list of distances of a x points calculated from the previous one \n",
    "y : list of distances of a y points calculated from the previous one\n",
    "occurences: list of lists of bools that indicates the nature of the cells (wooden, glass)\n",
    "dx: dimension of the box on the x axis\n",
    "dz: dimension of the box on the z axis\"\"\"\n",
    "def resize(x,y,occurences,dx,dz):\n",
    "\tsumY = sum(y)\n",
    "\tsumX = sum(x)\n",
    "\temptyCells = 0\n",
    "\tfor j in range(len(y)):\n",
    "\t\tfor i in range(len(x)):\n",
    "\t\t\tif occurences[j][i] == False:\n",
    "\t\t\t\temptyCells += 1\n",
    "\tdiffX = (dx-sumX)/emptyCells\n",
    "\tdiffY = (dz-sumY)/emptyCells\n",
    "\n",
    "\tfor j in range(len(y)):\n",
    "\t\tfor i in range(len(x)):\n",
    "\t\t\tif occurences[j][i] == False:\n",
    "\t\t\t\tx[i]+=diffX\n",
    "\t\t\t\ty[j]+= diffY"
   ]
  },
  {
   "cell_type": "markdown",
   "metadata": {},
   "source": [
    "## Door Functions"
   ]
  },
  {
   "cell_type": "code",
   "execution_count": null,
   "metadata": {
    "collapsed": true
   },
   "outputs": [],
   "source": []
  },
  {
   "cell_type": "code",
   "execution_count": null,
   "metadata": {
    "collapsed": true
   },
   "outputs": [],
   "source": [
    "\"\"\"Function that creates a door of the given dimensions.\n",
    "This function calls another function door (curried one) that creates the door according to the dimensions of a box\n",
    "passed as parameters. The door function calls the resize metod. \n",
    "@Param:\n",
    "x : list of distances of a x points calculated from the previous one \n",
    "y : list of distances of a y points calculated from the previous one\n",
    "occurences: matrix of bools that indicates the nature of the cells (wooden, glass)\n",
    "dx: dimension of the box on the x axis\n",
    "dz: dimension of the box on the z axis\"\"\"\n",
    "def ggpl_doors(x,y,occurences):\n",
    "\tdef doors(dx,dy,dz):\n",
    "\t\ts=STRUCT([CUBOID([0,0,0])])\n",
    "\t\tresize(x,y,occurences,dx,dz)\n",
    "\t\tfor i in range(len(x)):\n",
    "\t\t\t#counter for translation\n",
    "\t\t\tsumX=sum(x[:i])\n",
    "\t\t\tfor j in range(len(y)):\n",
    "\t\t\t\tsumY=sum(y[:j])\n",
    "\t\t\t\tif occurences[j][i]==True:\n",
    "\t\t\t\t\tcube = CUBOID([x[i],y[j],dy])\n",
    "\t\t\t\t\tcube = TEXTURE([\"wooden_texture.jpg\"])(cube) \n",
    "\t\t\t\t\ts=STRUCT([s,T([1,2])([sumX,sumY])(cube)])\n",
    "\t\t\t\telse:\n",
    "\t\t\t\t\tcube = CUBOID([x[i],y[j],dy])\n",
    "\t\t\t\t\tcube = TEXTURE([\"glass_texture_2.jpg\"])(cube) \n",
    "\t\t\t\t\ts=STRUCT([s,T([1,2])([sumX,sumY])(cube)])\n",
    "\n",
    "\t\ts = R([2,3])(PI/2)(s)\n",
    "\t\ts = T(2)(dy)(s)\n",
    "\t\tlockBase = CUBOID([.01,0.1,0.5])\n",
    "\t\tlockCylinder = CYLINDER([0.02,0.1])(30)\n",
    "\t\tlockCylinder = R([1,3])(PI/2)(lockCylinder)\n",
    "\t\tlockOrizzontalCylinder =CYLINDER([0.02,0.2])(30)\n",
    "\t\tlockOrizzontalCylinder = R([2,3])(PI/2)(lockOrizzontalCylinder) \n",
    "\t\tlock = STRUCT([lockBase,T([2,3])([0.05,0.3]),lockCylinder])\n",
    "\t\tlock = STRUCT([lock,T([1,2,3])([-0.1,0.065,0.3]),lockOrizzontalCylinder])\n",
    "\t\tlock = TEXTURE([\"gold_texture.jpg\"])(lock)\n",
    "\t\tlock = R([1,2])(-PI/2)(lock)\n",
    "\t\tdoor = STRUCT([s,SKEL_1(CUBOID([dx,dy,dz]))])\n",
    "\t\tdoor = STRUCT([door,T([1,2,3])([dx-0.15,dy+0.01,dz/2.5]),lock])\n",
    "\t\treturn door\n",
    "        \t\t\t\n",
    "\treturn doors"
   ]
  },
  {
   "cell_type": "markdown",
   "metadata": {},
   "source": [
    "## Window Functions"
   ]
  },
  {
   "cell_type": "code",
   "execution_count": null,
   "metadata": {
    "collapsed": true
   },
   "outputs": [],
   "source": []
  },
  {
   "cell_type": "code",
   "execution_count": null,
   "metadata": {
    "collapsed": true
   },
   "outputs": [],
   "source": [
    "\"\"\"Function that creates a window by calling a curried function.\n",
    "This function has the task to create the window and to resize it in order to fill a bo of given \n",
    "dimensions.\n",
    "@Param : The same of the door function\"\"\"\n",
    "def ggpl_windows(x,y,occurences):\n",
    "\tdef windows(dx,dy,dz):\n",
    "\t\ts=STRUCT([CUBOID([0,0,0])])\n",
    "\t\tresize(x,y,occurences,dx,dz)\n",
    "\t\tfor i in range(len(x)):\n",
    "\t\t\t#counter for translation\n",
    "\t\t\tsumX=sum(x[:i])\n",
    "\t\t\tfor j in range(len(y)):\n",
    "\t\t\t\tsumY=sum(y[:j])\n",
    "\t\t\t\tif occurences[j][i]==True:\n",
    "\t\t\t\t\tcube=CUBOID([x[i],y[j],dy])\n",
    "\t\t\t\t\tcube = TEXTURE([\"white_wood_texture.jpg\"])(cube) \n",
    "\t\t\t\t\ts=STRUCT([s,T([1,2])([sumX,sumY])(cube)])\n",
    "\t\t\t\telse:\n",
    "\t\t\t\t\tcube = CUBOID([x[i],y[j],dy])\n",
    "\t\t\t\t\tcube = TEXTURE([\"glass_texture.jpg\"])(cube) \n",
    "\t\t\t\t\ts=STRUCT([s,T([1,2])([sumX,sumY])(cube)])\n",
    "\t\twindow = R([2,3])(PI/2)(s)\n",
    "\t\twindow = T(2)(dy)(window)\n",
    "\n",
    "\t\treturn window\n",
    "\treturn windows\t\t\n",
    "\t"
   ]
  },
  {
   "cell_type": "code",
   "execution_count": 1,
   "metadata": {
    "collapsed": false
   },
   "outputs": [
    {
     "name": "stdout",
     "output_type": "stream",
     "text": [
      "Evaluating fenvs.py..\n",
      "...fenvs.py imported in 0.004441 seconds\n"
     ]
    }
   ],
   "source": [
    "from pyplasm import *\n",
    "\n",
    "\n",
    "\"\"\"Resize if a function that has the task to adjust the given dimensions of the door/window in\n",
    "order to fit the dimensions of the box passed as parameter.\n",
    "@Param:\n",
    "x : list of distances of a x points calculated from the previous one \n",
    "y : list of distances of a y points calculated from the previous one\n",
    "occurences: matrix of bools that indicates the nature of the cells (wooden, glass)\n",
    "dx: dimension of the box on the x axis\n",
    "dz: dimension of the box on the z axis\"\"\"\n",
    "def resize(x,y,occurences,dx,dz):\n",
    "\tsumY = sum(y)\n",
    "\tsumX = sum(x)\n",
    "\temptyCells = 0\n",
    "\tfor j in range(len(y)):\n",
    "\t\tfor i in range(len(x)):\n",
    "\t\t\tif occurences[j][i] == False:\n",
    "\t\t\t\temptyCells += 1\n",
    "\tdiffX = (dx-sumX)/emptyCells\n",
    "\tdiffY = (dz-sumY)/emptyCells\n",
    "\n",
    "\tfor j in range(len(y)):\n",
    "\t\tfor i in range(len(x)):\n",
    "\t\t\tif occurences[j][i] == False:\n",
    "\t\t\t\tx[i]+=diffX\n",
    "\t\t\t\ty[j]+= diffY\n",
    "\t\t\t\t\n",
    "\n",
    "\"\"\"Function that creates a door of the given dimensions.\n",
    "This function calls another function door (curried one) that creates the door according to the dimensions of a box\n",
    "passed as parameters. The door function calls the resize metod. \n",
    "@Param:\n",
    "x : list of distances of a x points calculated from the previous one \n",
    "y : list of distances of a y points calculated from the previous one\n",
    "occurences: matrix of bools that indicates the nature of the cells (wooden, glass)\n",
    "dx: dimension of the box on the x axis\n",
    "dz: dimension of the box on the z axis\"\"\"\n",
    "def ggpl_doors(x,y,occurences):\n",
    "\tdef doors(dx,dy,dz):\n",
    "\t\ts=STRUCT([CUBOID([0,0,0])])\n",
    "\t\tresize(x,y,occurences,dx,dz)\n",
    "\t\tfor i in range(len(x)):\n",
    "\t\t\t#counter for translation\n",
    "\t\t\tsumX=sum(x[:i])\n",
    "\t\t\tfor j in range(len(y)):\n",
    "\t\t\t\tsumY=sum(y[:j])\n",
    "\t\t\t\tif occurences[j][i]==True:\n",
    "\t\t\t\t\tcube = CUBOID([x[i],y[j],dy])\n",
    "\t\t\t\t\tcube = TEXTURE([\"wooden_texture.jpg\"])(cube) \n",
    "\t\t\t\t\ts=STRUCT([s,T([1,2])([sumX,sumY])(cube)])\n",
    "\t\t\t\telse:\n",
    "\t\t\t\t\tcube = CUBOID([x[i],y[j],dy])\n",
    "\t\t\t\t\tcube = TEXTURE([\"glass_texture_2.jpg\"])(cube) \n",
    "\t\t\t\t\ts=STRUCT([s,T([1,2])([sumX,sumY])(cube)])\n",
    "\n",
    "\t\ts = R([2,3])(PI/2)(s)\n",
    "\t\ts = T(2)(dy)(s)\n",
    "\t\tlockBase = CUBOID([.01,0.1,0.5])\n",
    "\t\tlockCylinder = CYLINDER([0.02,0.1])(30)\n",
    "\t\tlockCylinder = R([1,3])(PI/2)(lockCylinder)\n",
    "\t\tlockOrizzontalCylinder =CYLINDER([0.02,0.2])(30)\n",
    "\t\tlockOrizzontalCylinder = R([2,3])(PI/2)(lockOrizzontalCylinder) \n",
    "\t\tlock = STRUCT([lockBase,T([2,3])([0.05,0.3]),lockCylinder])\n",
    "\t\tlock = STRUCT([lock,T([1,2,3])([-0.1,0.065,0.3]),lockOrizzontalCylinder])\n",
    "\t\tlock = TEXTURE([\"gold_texture.jpg\"])(lock)\n",
    "\t\tlock = R([1,2])(-PI/2)(lock)\n",
    "\t\tdoor = STRUCT([s,SKEL_1(CUBOID([dx,dy,dz]))])\n",
    "\t\tdoor = STRUCT([door,T([1,2,3])([dx-0.15,dy+0.01,dz/2.5]),lock])\n",
    "\t\treturn door\n",
    "        \t\t\t\n",
    "\treturn doors\n",
    "\n",
    "\"\"\"Function that creates a window by calling a curried function.\n",
    "This function has the task to create the window and to resize it in order to fill a bo of given \n",
    "dimensions.\n",
    "@Param : The same of the door function\"\"\"\n",
    "def ggpl_windows(x,y,occurences):\n",
    "\tdef windows(dx,dy,dz):\n",
    "\t\ts=STRUCT([CUBOID([0,0,0])])\n",
    "\t\tresize(x,y,occurences,dx,dz)\n",
    "\t\tfor i in range(len(x)):\n",
    "\t\t\t#counter for translation\n",
    "\t\t\tsumX=sum(x[:i])\n",
    "\t\t\tfor j in range(len(y)):\n",
    "\t\t\t\tsumY=sum(y[:j])\n",
    "\t\t\t\tif occurences[j][i]==True:\n",
    "\t\t\t\t\tcube=CUBOID([x[i],y[j],dy])\n",
    "\t\t\t\t\tcube = TEXTURE([\"white_wood_texture.jpg\"])(cube) \n",
    "\t\t\t\t\ts=STRUCT([s,T([1,2])([sumX,sumY])(cube)])\n",
    "\t\t\t\telse:\n",
    "\t\t\t\t\tcube = CUBOID([x[i],y[j],dy])\n",
    "\t\t\t\t\tcube = TEXTURE([\"glass_texture.jpg\"])(cube) \n",
    "\t\t\t\t\ts=STRUCT([s,T([1,2])([sumX,sumY])(cube)])\n",
    "\t\twindow = R([2,3])(PI/2)(s)\n",
    "\t\twindow = T(2)(dy)(window)\n",
    "\n",
    "\t\treturn window\n",
    "\treturn windows\t\t\n",
    "\t\n",
    "if __name__=='__main__':\n",
    "\t\n",
    "\t\n",
    "\tXWindow = [.1,.3,.05,.3,.1]\n",
    "\tYWindow = [.1,.3,.05,.3,.1]\n",
    "\toccurencesWindow = [[True, True, True, True, True],\n",
    "\t\t\t  [True, False, True, False, True],\n",
    "\t\t\t  [True, True, True, True, True],\n",
    "\t\t\t  [True, False, True, False, True],\n",
    "\t\t\t  [True, True, True, True, True]]\n",
    "\n",
    "\t\"\"\"XWindow = [.1,.2,.1,.5,.1,.2,.1]\n",
    "\tYWindow = [.1,.1,.6,.1]\n",
    "\toccurencesWindow = [[True]*7,[True,False,True,False,True,False,True],\n",
    "\t[True,False,True,False,True,False,True],[True]*7]\t\t  \n",
    "\t\"\"\"\t  \n",
    "\n",
    "\t\"\"\"\t\t\t\n",
    "\tXDoor = [.2,.4,.1,.4,.2]\n",
    "\tYDoor = [.3,.6,.1,.6,.1,.6,.1,.6,.3]\n",
    "\t\n",
    "\toccurencesDoor = [[True]*5, [True,False,True,False,True], [True]*5, [True,False,True,False,True], \n",
    "\t[True]*5, [True,False,True,False,True], [True]*5, [True,False,True,False,True], [True]*5]\n",
    "\t\"\"\"\n",
    "\n",
    "\tXDoor = [.2,.2,.3,.2,.2]\n",
    "\tYDoor = [.4,.4,.4,.4,.4,.4,.4]\n",
    "\toccurencesDoor = [[True]*5,[True,False,False,True,True],[True]*5,\n",
    "\t[True,True,False,False,True],[True]*5,[True,False,False,True,True],[True]*5]\n",
    "\tVIEW(ggpl_windows(XWindow,YWindow,occurencesWindow)(3,0.05,2))\n",
    "\tVIEW(ggpl_doors(XDoor,YDoor,occurencesDoor)(1.5,0.1,3))"
   ]
  },
  {
   "cell_type": "code",
   "execution_count": null,
   "metadata": {
    "collapsed": true
   },
   "outputs": [],
   "source": []
  }
 ],
 "metadata": {
  "kernelspec": {
   "display_name": "Python 2",
   "language": "python",
   "name": "python2"
  },
  "language_info": {
   "codemirror_mode": {
    "name": "ipython",
    "version": 2
   },
   "file_extension": ".py",
   "mimetype": "text/x-python",
   "name": "python",
   "nbconvert_exporter": "python",
   "pygments_lexer": "ipython2",
   "version": "2.7.12"
  }
 },
 "nbformat": 4,
 "nbformat_minor": 1
}
