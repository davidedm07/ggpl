{
 "cells": [
  {
   "cell_type": "markdown",
   "metadata": {},
   "source": [
    "# <font color = \"green\" > Neighbourhood Builder </font>"
   ]
  },
  {
   "cell_type": "markdown",
   "metadata": {},
   "source": [
    "## This workshop recreates the neighbourhood chosen as model. "
   ]
  },
  {
   "cell_type": "markdown",
   "metadata": {},
   "source": [
    "## <font color = \"green\"> Reference Model </font>"
   ]
  },
  {
   "cell_type": "markdown",
   "metadata": {},
   "source": [
    "<img src = \"files/model.jpg\">"
   ]
  },
  {
   "cell_type": "markdown",
   "metadata": {},
   "source": [
    "#### The reference model has been recreated in a different orientation. This problem is not dued by the code but to the results given by the svg files of inkscape."
   ]
  },
  {
   "cell_type": "markdown",
   "metadata": {},
   "source": [
    "## <font color = \"green\" > Explanation of the code  </font>"
   ]
  },
  {
   "cell_type": "markdown",
   "metadata": {},
   "source": [
    "## <font color = \"green\" > ggpl_build_tree function  </font>"
   ]
  },
  {
   "cell_type": "markdown",
   "metadata": {},
   "source": [
    "### This function has the task to build a simple tree. The characteristics of the tree can be controlled by the parameter h."
   ]
  },
  {
   "cell_type": "code",
   "execution_count": 1,
   "metadata": {
    "collapsed": true
   },
   "outputs": [],
   "source": [
    "def ggpl_build_tree():\n",
    "\th = 20\n",
    "\tleaves = SPHERE(0)([1,1])\n",
    "\tr = 1\n",
    "\tlog = CYLINDER([r,h])(20)\n",
    "\tlog = TEXTURE(\"Texture/tree_texture.jpg\")(log)\n",
    "\tleaf = SPHERE(h/6)([24,32])\n",
    "\tleaf = TEXTURE(\"Texture/leaves_texture.jpg\")(leaf)\t\n",
    "\tleaves = STRUCT([leaves,T(1)(h/6)(leaf)])\n",
    "\tleaves = STRUCT([leaves,T(1)(-h/6)(leaf)])\n",
    "\tleaves2 = R([1,2])(PI/2)(leaves)\n",
    "\tleaves = STRUCT([leaves,leaves2])\t\n",
    "\tleaves = T(3)(h)(leaves)\n",
    "\ttree = STRUCT([log,leaves,T(3)(h+h/6)(leaf)])\n",
    "\treturn tree\n"
   ]
  },
  {
   "cell_type": "markdown",
   "metadata": {},
   "source": [
    "## <font color = \"green\"> Result </font>"
   ]
  },
  {
   "cell_type": "markdown",
   "metadata": {},
   "source": [
    "<img src = \"files/Risultati/tree.png\">"
   ]
  },
  {
   "cell_type": "markdown",
   "metadata": {},
   "source": [
    "## <font color = \"green\" > Creation of the curve roads  </font>"
   ]
  },
  {
   "cell_type": "markdown",
   "metadata": {},
   "source": [
    "### This part of the code reads the .lines file and creates the curve roads present in the model. There are more than one single .line file because the beziercurve function curves too much a single .line file, so in order to maintain a shape more similar to the model one the code needed multiple .lines files."
   ]
  },
  {
   "cell_type": "code",
   "execution_count": null,
   "metadata": {
    "collapsed": true
   },
   "outputs": [],
   "source": [
    "\twith open(\"Lines_Files/contorno1.lines\",\"rb\") as csvfile:\n",
    "\t\tcsvReader = csv.reader(csvfile)\n",
    "\t\tpoints = []\n",
    "\t\tfor row in csvReader:\n",
    "\t\t\tpoints.append([float(row[0]),float(row[1])])\n",
    "\n",
    "\toutline1 = MAP(BEZIERCURVE(points))(INTERVALS(1)(32))\n",
    "\toutline1 = OFFSET([8,8])(outline1)\n",
    "\toutline1 = PROD([outline1,Q(0.5)])\n",
    "\t\n",
    "\twith open(\"Lines_Files/contorno2.lines\",\"rb\") as csvfile:\n",
    "\t\tcsvReader = csv.reader(csvfile)\n",
    "\t\tpoints = []\n",
    "\t\tfor row in csvReader:\n",
    "\t\t\tpoints.append([float(row[0]),float(row[1])])\n",
    "\n",
    "\toutline2 = MAP(BEZIERCURVE(points))(INTERVALS(1)(32))\n",
    "\toutline2 = OFFSET([8,8])(outline2)\n",
    "\toutline2 = PROD([outline2,Q(0.5)])\n",
    "\t\n",
    "\twith open(\"Lines_Files/contorno3.lines\",\"rb\") as csvfile:\n",
    "\t\tcsvReader = csv.reader(csvfile)\n",
    "\t\tpoints = []\n",
    "\t\tfor row in csvReader:\n",
    "\t\t\tpoints.append([float(row[0]),float(row[1])])\n",
    "\toutline3 = MAP(BEZIERCURVE(points))(INTERVALS(1)(32))\n",
    "\toutline3 = OFFSET([8,8])(outline3)\n",
    "\toutline3 = PROD([outline3,Q(0.5)])\n",
    "\tstreets = STRUCT([outline1,outline2,outline3])\n",
    "\tstreets = TEXTURE(\"Texture/road_texture.jpg\")(streets)"
   ]
  },
  {
   "cell_type": "markdown",
   "metadata": {},
   "source": [
    "## <font color = \"green\" > Creation of the basement for the model </font>"
   ]
  },
  {
   "cell_type": "markdown",
   "metadata": {},
   "source": [
    "### This part of code reads a .lines file and creates a wooden basement for the model. The basement is coloured whether using the function material or using a texture. The difference between the two is showed in the results section."
   ]
  },
  {
   "cell_type": "code",
   "execution_count": null,
   "metadata": {
    "collapsed": true
   },
   "outputs": [],
   "source": [
    "with open(\"Lines_Files/fondamenta.lines\", \"rb\") as cvsfile:\n",
    "\t\tcsvReader = csv.reader(cvsfile)\n",
    "\t\tpoints = []\n",
    "\t\tfor row in csvReader:\n",
    "\t\t\tpoints.append(POLYLINE([[float(row[0]),float(row[1])],[float(row[2]),float(row[3])]]))\n",
    "\n",
    "\t\tbasement = STRUCT(points)\n",
    "\t\tbasement = SOLIDIFY(basement)\n",
    "\t\twoodPlatform = basement\n",
    "\t\twoodPlatform = PROD([woodPlatform,Q(3)])\n",
    "\t\t#woodPlatform =  MATERIAL([101./255.,60./255.,34./255.,1,  0,0,0,1,  0,0,0,0, 0,0,0,1, 1])(woodPlatform)\n",
    "\t\twoodPlatform = TEXTURE(\"Texture/platform_wood_texture.jpg\")(woodPlatform)\n",
    "\t\tbasement = PROD([basement,Q(0.1)])\n",
    "\t\t#basement = MATERIAL([.15,.3,0,1,  0,0,0,1,  0,0,0,0, 0,0,0,1, 1])(basement)\n",
    "\t\tbasement = TEXTURE(\"Texture/grass_texture_2.jpg\")(basement)\n",
    "\t\tbasementComplete = STRUCT([woodPlatform,T(3)(3),basement])"
   ]
  },
  {
   "cell_type": "markdown",
   "metadata": {},
   "source": [
    "## <font color = \"green\" > Remaining parts of the code </font>"
   ]
  },
  {
   "cell_type": "markdown",
   "metadata": {},
   "source": [
    "### The rest of the code is pretty simple. It has the task to create complexes of houses and trees and put them in the right positions of the model."
   ]
  },
  {
   "cell_type": "markdown",
   "metadata": {},
   "source": [
    "## <font color = \"green\" > Complete Code  </font>"
   ]
  },
  {
   "cell_type": "markdown",
   "metadata": {},
   "source": [
    "### In the following section there is the complete code of the function ggpl_suburban_housing_neighbourhood."
   ]
  },
  {
   "cell_type": "code",
   "execution_count": 1,
   "metadata": {
    "collapsed": false
   },
   "outputs": [
    {
     "name": "stdout",
     "output_type": "stream",
     "text": [
      "Evaluating fenvs.py..\n",
      "...fenvs.py imported in 0.005023 seconds\n",
      "Child 3\n",
      "Child 3\n"
     ]
    },
    {
     "data": {
      "text/plain": [
       "<pyplasm.xgepy.Hpc; proxy of <Swig Object of type 'std::shared_ptr< Hpc > *' at 0x7f92d804a780> >"
      ]
     },
     "execution_count": 1,
     "metadata": {},
     "output_type": "execute_result"
    }
   ],
   "source": [
    "import csv\n",
    "from pyplasm import *\n",
    "from res import workshop_10 as w10\n",
    "\n",
    "def ggpl_build_tree():\n",
    "\th = 20\n",
    "\tleaves = SPHERE(0)([1,1])\n",
    "\tr = 1\n",
    "\tlog = CYLINDER([r,h])(20)\n",
    "\tlog = TEXTURE(\"Texture/tree_texture.jpg\")(log)\n",
    "\tleaf = SPHERE(h/6)([24,32])\n",
    "\tleaf = TEXTURE(\"Texture/leaves_texture.jpg\")(leaf)\t\n",
    "\tleaves = STRUCT([leaves,T(1)(h/6)(leaf)])\n",
    "\tleaves = STRUCT([leaves,T(1)(-h/6)(leaf)])\n",
    "\tleaves2 = R([1,2])(PI/2)(leaves)\n",
    "\tleaves = STRUCT([leaves,leaves2])\t\n",
    "\t\n",
    "\tleaves = T(3)(h)(leaves)\n",
    "\ttree = STRUCT([log,leaves,T(3)(h+h/6)(leaf)])\n",
    "\treturn tree\n",
    "\n",
    "def ggpl_suburban_housing_neighbourhood():\n",
    "\twith open(\"Lines_Files/contorno1.lines\",\"rb\") as csvfile:\n",
    "\t\tcsvReader = csv.reader(csvfile)\n",
    "\t\tpoints = []\n",
    "\t\tfor row in csvReader:\n",
    "\t\t\tpoints.append([float(row[0]),float(row[1])])\n",
    "\n",
    "\toutline1 = MAP(BEZIERCURVE(points))(INTERVALS(1)(32))\n",
    "\toutline1 = OFFSET([8,8])(outline1)\n",
    "\toutline1 = PROD([outline1,Q(0.5)])\n",
    "\t\n",
    "\twith open(\"Lines_Files/contorno2.lines\",\"rb\") as csvfile:\n",
    "\t\tcsvReader = csv.reader(csvfile)\n",
    "\t\tpoints = []\n",
    "\t\tfor row in csvReader:\n",
    "\t\t\tpoints.append([float(row[0]),float(row[1])])\n",
    "\n",
    "\toutline2 = MAP(BEZIERCURVE(points))(INTERVALS(1)(32))\n",
    "\toutline2 = OFFSET([8,8])(outline2)\n",
    "\toutline2 = PROD([outline2,Q(0.5)])\n",
    "\t\n",
    "\twith open(\"Lines_Files/contorno3.lines\",\"rb\") as csvfile:\n",
    "\t\tcsvReader = csv.reader(csvfile)\n",
    "\t\tpoints = []\n",
    "\t\tfor row in csvReader:\n",
    "\t\t\tpoints.append([float(row[0]),float(row[1])])\n",
    "\toutline3 = MAP(BEZIERCURVE(points))(INTERVALS(1)(32))\n",
    "\toutline3 = OFFSET([8,8])(outline3)\n",
    "\toutline3 = PROD([outline3,Q(0.5)])\n",
    "\tstreets = STRUCT([outline1,outline2,outline3])\n",
    "\tstreets = TEXTURE(\"Texture/road_texture.jpg\")(streets)\n",
    "\t#result = MATERIAL([1,0,0,1,  1,1,1,1,  0,0,0,0, 0,0,0,0, 100])(result)0\n",
    "\t\n",
    "\twith open(\"Lines_Files/fondamenta.lines\", \"rb\") as cvsfile:\n",
    "\t\tcsvReader = csv.reader(cvsfile)\n",
    "\t\tpoints = []\n",
    "\t\tfor row in csvReader:\n",
    "\t\t\tpoints.append(POLYLINE([[float(row[0]),float(row[1])],[float(row[2]),float(row[3])]]))\n",
    "\n",
    "\t\tbasement = STRUCT(points)\n",
    "\t\tbasement = SOLIDIFY(basement)\n",
    "\t\twoodPlatform = basement\n",
    "\t\twoodPlatform = PROD([woodPlatform,Q(3)])\n",
    "\t\t#woodPlatform =  MATERIAL([101./255.,60./255.,34./255.,1,  0,0,0,1,  0,0,0,0, 0,0,0,1, 1])(woodPlatform)\n",
    "\t\twoodPlatform = TEXTURE(\"Texture/platform_wood_texture.jpg\")(woodPlatform)\n",
    "\t\tbasement = PROD([basement,Q(0.1)])\n",
    "\t\t#basement = MATERIAL([.15,.3,0,1,  0,0,0,1,  0,0,0,0, 0,0,0,1, 1])(basement)\n",
    "\t\tbasement = TEXTURE(\"Texture/grass_texture_2.jpg\")(basement)\n",
    "\t\tbasementComplete = STRUCT([woodPlatform,T(3)(3),basement])\n",
    "\n",
    "\t\"\"\" Building the houses of the neighbourhood\"\"\"\n",
    "\tsingleHouse = w10.ggpl_multistory_house()\n",
    "\thouseSizeX = SIZE([1])(singleHouse)[0]\n",
    "\tdoubleHouses = STRUCT([singleHouse,T(1)(houseSizeX -8),singleHouse])\n",
    "\tthreeHouses =  STRUCT([singleHouse,T(1)(houseSizeX-8),singleHouse])\n",
    "\tthreeHouses = STRUCT([threeHouses,T(1)(houseSizeX*2-16),singleHouse])\n",
    "\tdoubleHousesReverse = R([1,2])(PI)(doubleHouses)\n",
    "\tthreeHousesReverse = R([1,2])(-PI)(threeHouses)\n",
    "\tlateralHouses = R([1,2])(-PI/2.5)(doubleHousesReverse)\n",
    "\thouses = T([1,2])([100,115])(lateralHouses)\n",
    "\thouses = STRUCT([houses,T([1,2])([150,10]),doubleHouses])\n",
    "\thouses = STRUCT([houses,T([1,2])([200,10]),threeHouses])\n",
    "\thouses = STRUCT([houses,T([1,2])([230,70]),doubleHousesReverse])\n",
    "\thouses = STRUCT([houses,T([1,2])([295,75]),threeHousesReverse])\n",
    "\tlateralHouses = R([1,2])(-PI/3.5)(doubleHouses)\n",
    "\thouses = STRUCT([houses,T([1,2])([15,135]),lateralHouses])\n",
    "\thouses = STRUCT([houses,T([1,2])([200,200]),threeHousesReverse])\n",
    "\thouses = STRUCT([houses,T([1,2])([100,205]),R([1,2])(PI/7)(threeHousesReverse)])\n",
    "\thouses = STRUCT([houses,T([1,2])([110,140]),threeHouses])\n",
    "\tneighbourhood = STRUCT([streets,houses])\n",
    "\tneighbourhood = T(3)(3.05)(neighbourhood)\n",
    "\tneighbourhood = STRUCT([neighbourhood,basementComplete])\n",
    "\t\"\"\" Putting the trees in the neighbourhood\"\"\"\n",
    "\ttree = ggpl_build_tree()\n",
    "\ttree = T(3)(0.05)(tree) \n",
    "\tneighbourhood = STRUCT([neighbourhood,T([1,2])([100,100]),tree])\n",
    "\tneighbourhood = STRUCT([neighbourhood,T([1,2])([150,118]),tree])\n",
    "\tneighbourhood = STRUCT([neighbourhood,T([1,2])([170,118]),tree])\n",
    "\tneighbourhood = STRUCT([neighbourhood,T([1,2])([150,130]),tree])\n",
    "\tneighbourhood = STRUCT([neighbourhood,T([1,2])([170,132]),tree])\n",
    "\tneighbourhood = STRUCT([neighbourhood,T([1,2])([180,118]),tree])\n",
    "\tneighbourhood = STRUCT([neighbourhood,T([1,2])([100,120]),tree])\n",
    "\tneighbourhood = STRUCT([neighbourhood,T([1,2])([205,118]),tree])\n",
    "\tneighbourhood = STRUCT([neighbourhood,T([1,2])([205,135]),tree])\n",
    "\tneighbourhood = STRUCT([neighbourhood,T([1,2])([205,100]),tree])\n",
    "\tneighbourhood = STRUCT([neighbourhood,T([1,2])([200,85]),tree])\n",
    "\tneighbourhood = STRUCT([neighbourhood,T([1,2])([200,150]),tree])\n",
    "\tneighbourhood = STRUCT([neighbourhood,T([1,2])([200,160]),tree])\n",
    "\tneighbourhood = STRUCT([neighbourhood,T([1,2])([130,175]),tree])\n",
    "\tneighbourhood = STRUCT([neighbourhood,T([1,2])([120,175]),tree])\n",
    "\tneighbourhood = STRUCT([neighbourhood,T([1,2])([110,175]),tree])\n",
    "\tneighbourhood = STRUCT([neighbourhood,T([1,2])([100,175]),tree])\n",
    "\t\"\"\"trees in the left side of the model, inner part of the street\"\"\"\n",
    "\tneighbourhood = STRUCT([neighbourhood,T([1,2])([170,50]),tree])\n",
    "\tneighbourhood = STRUCT([neighbourhood,T([1,2])([175,60]),tree])\n",
    "\tneighbourhood = STRUCT([neighbourhood,T([1,2])([175,70]),tree])\n",
    "\tneighbourhood = STRUCT([neighbourhood,T([1,2])([180,80]),tree])\n",
    "\tneighbourhood = STRUCT([neighbourhood,T([1,2])([180,90]),tree])\n",
    "\tneighbourhood = STRUCT([neighbourhood,T([1,2])([185,100]),tree])\n",
    "\t\"\"\"trees in the upper side of the model pointing to the center of the model\"\"\"\n",
    "\tneighbourhood = STRUCT([neighbourhood,T([1,2])([160,50]),tree])\n",
    "\tneighbourhood = STRUCT([neighbourhood,T([1,2])([149,50]),tree])\n",
    "\tneighbourhood = STRUCT([neighbourhood,T([1,2])([135,50]),tree])\n",
    "\tneighbourhood = STRUCT([neighbourhood,T([1,2])([125,50]),tree])\n",
    "\tneighbourhood = STRUCT([neighbourhood,T([1,2])([115,53]),tree])\n",
    "\t\"\"\"trees in the upper side pointing to the x axis\"\"\"\n",
    "\tneighbourhood = STRUCT([neighbourhood,T([1,2])([115,38]),tree])\n",
    "\tneighbourhood = STRUCT([neighbourhood,T([1,2])([125,38]),tree])\n",
    "\tneighbourhood = STRUCT([neighbourhood,T([1,2])([135,38]),tree])\n",
    "\tneighbourhood = STRUCT([neighbourhood,T([1,2])([75,70]),tree])\n",
    "\tneighbourhood = STRUCT([neighbourhood,T([1,2])([70,81]),tree])\n",
    "\t\"\"\"building a square\"\"\"\n",
    "\tsquare = CIRCLE(16.0)([32,8])\n",
    "\tsquare = PROD([square,Q(0.5)])\n",
    "\tsquare = TEXTURE(\"Texture/road_texture.jpg\")(square)\n",
    "\tneighbourhood = STRUCT([neighbourhood,T([1,2,3])([275,36,3.5]),square])\n",
    "\tVIEW(neighbourhood)\n",
    "\treturn neighbourhood\n",
    "\n",
    "ggpl_suburban_housing_neighbourhood()"
   ]
  },
  {
   "cell_type": "markdown",
   "metadata": {
    "collapsed": true
   },
   "source": [
    "## <font color = \"green\"> Results </font>"
   ]
  },
  {
   "cell_type": "markdown",
   "metadata": {},
   "source": [
    "## <font color = \"green\"> \"Material\" Version </font>"
   ]
  },
  {
   "cell_type": "markdown",
   "metadata": {},
   "source": [
    "### In this section there are the results of the function analysed before using the material method of pyplasm to colour the objects of the model."
   ]
  },
  {
   "cell_type": "markdown",
   "metadata": {},
   "source": [
    "<img src = \"files/Risultati/material_version_1.png\">\n",
    "<img src = \"files/Risultati/material_version_2.png\">\n",
    "<img src = \"files/Risultati/material_version_3.png\">\n",
    "<img src = \"files/Risultati/material_version_4.png\">"
   ]
  },
  {
   "cell_type": "markdown",
   "metadata": {},
   "source": [
    "## <font color = \"green\"> \"Texture\" Version </font>"
   ]
  },
  {
   "cell_type": "markdown",
   "metadata": {},
   "source": [
    "### In this section the objects of the model have been coloured by using some textures downloaded from the net."
   ]
  },
  {
   "cell_type": "markdown",
   "metadata": {},
   "source": [
    "<img src = \"files/Risultati/texture_version_1.png\">\n",
    "<img src = \"files/Risultati/texture_version_2.png\">\n",
    "<img src = \"files/Risultati/texture_version_3.png\">\n",
    "<img src = \"files/Risultati/texture_version_basement.png\">"
   ]
  },
  {
   "cell_type": "markdown",
   "metadata": {},
   "source": [
    "### The last photo of both of the results sections shows the bottom of the basement on which the model is put. "
   ]
  }
 ],
 "metadata": {
  "kernelspec": {
   "display_name": "Python 2",
   "language": "python",
   "name": "python2"
  },
  "language_info": {
   "codemirror_mode": {
    "name": "ipython",
    "version": 2
   },
   "file_extension": ".py",
   "mimetype": "text/x-python",
   "name": "python",
   "nbconvert_exporter": "python",
   "pygments_lexer": "ipython2",
   "version": "2.7.12"
  }
 },
 "nbformat": 4,
 "nbformat_minor": 1
}
