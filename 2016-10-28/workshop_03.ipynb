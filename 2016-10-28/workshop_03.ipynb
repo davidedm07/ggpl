{
 "cells": [
  {
   "cell_type": "markdown",
   "metadata": {},
   "source": [
    "# workshop_03"
   ]
  },
  {
   "cell_type": "markdown",
   "metadata": {},
   "source": [
    "# L shape stair"
   ]
  },
  {
   "cell_type": "markdown",
   "metadata": {},
   "source": [
    "<img src=\"http://bimandbeam.typepad.com/bim_beam/052207_1624_Customshape1.jpg\">"
   ]
  },
  {
   "cell_type": "code",
   "execution_count": 10,
   "metadata": {
    "collapsed": false
   },
   "outputs": [],
   "source": [
    "from pyplasm import *\n",
    "import math\n",
    "\"\"\" function that creates a l shaped stair\"\"\"\n",
    "def ggpl_zstair(dx,dy,dz):\n",
    "\t\"\"\"parameters of the single step\"\"\" \n",
    "\tvertex = [[0,0],[0,0.5],[2,0.5],[1,0]]\n",
    "\tcells = [[1,2,3,4]]\n",
    "\tpolls = None\n",
    "\t\"\"\"creation of the first step\"\"\"\n",
    "\txstep = MKPOL([vertex, cells, 1])\n",
    "\tstep = PROD([QUOTE([3]),xstep])\n",
    "\t\"\"\"calculation of the height of the ramps\"\"\"\n",
    "\trampeHeight = math.ceil(dz/2)\n",
    "\t\"\"\"calculation of the number of the steps according to the dimension of the box\"\"\"\n",
    "\tnumStep = math.ceil(dx)\n",
    "\t\"\"\"creation of the 2 ramps\"\"\"\n",
    "\txRampe= step\n",
    "\txRampe2= xRampe\n",
    "\tfor i in range(int(numStep)-3):\n",
    "\t\txRampe = STRUCT([xRampe,T([2,3])([1,0.5]),xRampe])\n",
    "\t\txRampe2 = STRUCT([xRampe2,T([2,3])([1,0.5]),xRampe2])\n",
    "\t\"\"\"creation of the platform on the last step\"\"\"\n",
    "\tfinalStep = CUBOID([dx,2,0.5])\n",
    "\t\"\"\"concatenation of the ramps with the platform\"\"\"\n",
    "\txRampe = STRUCT([xRampe,T([2,3])([(numStep-2)*1,(numStep-2)*0.5]),finalStep])\n",
    "\txRampe2 = STRUCT([xRampe2,T([2,3])([(numStep-3)*1,(numStep-3)*0.5]),finalStep])\n",
    "\t\"\"\"rotate the second ramp of 180 degrees\"\"\"\n",
    "\txRampe2= R([1,2])(PI)(xRampe2)\n",
    "\t\"\"\"create and display the box\"\"\"\n",
    "\tbox = SKEL_1(CUBOID([dx,dy,dz]))\n",
    "\tresult = STRUCT([box,xRampe])\n",
    "\t\"\"\"concatenation of the 2 ramps and display of the result\"\"\"\n",
    "\tresult = STRUCT([result,T([1,2,3])([dx,dy-1,(numStep-2)*0.5]),xRampe2])\n",
    "\tVIEW(result)\n",
    "\treturn result\n",
    "\t\n",
    "\n",
    "if __name__ == '__main__':\n",
    "\tggpl_zstair(8,8,6)"
   ]
  },
  {
   "cell_type": "markdown",
   "metadata": {},
   "source": [
    "# Examples"
   ]
  },
  {
   "cell_type": "markdown",
   "metadata": {},
   "source": [
    "# example 1"
   ]
  },
  {
   "cell_type": "markdown",
   "metadata": {},
   "source": [
    "<img src=\"files/esempio1.png\">"
   ]
  },
  {
   "cell_type": "markdown",
   "metadata": {},
   "source": [
    "# example 2"
   ]
  },
  {
   "cell_type": "markdown",
   "metadata": {},
   "source": [
    "<img src=\"files/esempio2.png\">"
   ]
  },
  {
   "cell_type": "markdown",
   "metadata": {},
   "source": [
    "# example 3"
   ]
  },
  {
   "cell_type": "markdown",
   "metadata": {},
   "source": [
    "<img src=\"\"files/esempio3.png>"
   ]
  },
  {
   "cell_type": "markdown",
   "metadata": {},
   "source": [
    "<img src=\"files/esempio3.png\">"
   ]
  },
  {
   "cell_type": "code",
   "execution_count": null,
   "metadata": {
    "collapsed": true
   },
   "outputs": [],
   "source": []
  }
 ],
 "metadata": {
  "kernelspec": {
   "display_name": "Python 2",
   "language": "python",
   "name": "python2"
  },
  "language_info": {
   "codemirror_mode": {
    "name": "ipython",
    "version": 2
   },
   "file_extension": ".py",
   "mimetype": "text/x-python",
   "name": "python",
   "nbconvert_exporter": "python",
   "pygments_lexer": "ipython2",
   "version": "2.7.12"
  }
 },
 "nbformat": 4,
 "nbformat_minor": 1
}
