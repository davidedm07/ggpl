{
 "cells": [
  {
   "cell_type": "markdown",
   "metadata": {},
   "source": [
    "# Workshop 05"
   ]
  },
  {
   "cell_type": "markdown",
   "metadata": {},
   "source": [
    "## School Class"
   ]
  },
  {
   "cell_type": "markdown",
   "metadata": {},
   "source": [
    "### School Furniture"
   ]
  },
  {
   "cell_type": "markdown",
   "metadata": {},
   "source": [
    "### school chair"
   ]
  },
  {
   "cell_type": "markdown",
   "metadata": {},
   "source": [
    "<img src=\"https://www.andythornton.com/uploads/images/ATFUVF386.jpg\">"
   ]
  },
  {
   "cell_type": "markdown",
   "metadata": {},
   "source": [
    "### bookshelf"
   ]
  },
  {
   "cell_type": "markdown",
   "metadata": {},
   "source": [
    "<img src=\"http://www.classroom-furnishing.com/images/cat/low-adjustable-bookcase-sm.gif\">"
   ]
  },
  {
   "cell_type": "markdown",
   "metadata": {},
   "source": [
    "## desk"
   ]
  },
  {
   "cell_type": "markdown",
   "metadata": {},
   "source": [
    "<img src=\"http://www.schoolandofficedirect.com/media/catalog/product/cache/1/image/9df78eab33525d08d6e5fb8d27136e95/z/o/zoctm.jpg\">"
   ]
  },
  {
   "cell_type": "markdown",
   "metadata": {},
   "source": [
    "## blackboard"
   ]
  },
  {
   "cell_type": "markdown",
   "metadata": {},
   "source": [
    "<img src =\"https://img0.etsystatic.com/004/0/6477195/il_fullxfull.369163830_400j.jpg\">"
   ]
  },
  {
   "cell_type": "markdown",
   "metadata": {},
   "source": [
    "### teaching desk"
   ]
  },
  {
   "cell_type": "markdown",
   "metadata": {},
   "source": [
    "<img src =\"http://ven-rez.com/wp-content/uploads/2012/06/shelbourne-09.jpg\">"
   ]
  },
  {
   "cell_type": "code",
   "execution_count": 1,
   "metadata": {
    "collapsed": false
   },
   "outputs": [
    {
     "name": "stdout",
     "output_type": "stream",
     "text": [
      "Evaluating fenvs.py..\n",
      "...fenvs.py imported in 0.00424 seconds\n"
     ]
    }
   ],
   "source": [
    "from pyplasm import *\n",
    "\"\"\"function that creates a blackboard\"\"\"\n",
    "def create_blackboard(dx,dy,dz):\n",
    "\tblackboard = COLOR(BLACK)(CUBOID([0.05,2,1]))\n",
    "\tskel = OFFSET([.02,.02,.02])(SKEL_1(blackboard))\n",
    "\tskel = COLOR(Color4f([205/255.0,170/255.0,125/255.0,1]))(skel)\n",
    "\tblackboard = STRUCT([skel,blackboard])\n",
    "\tblackboard = T([2,3])([dy/3,dz/3])(blackboard)\n",
    "\treturn blackboard\n",
    "\"\"\"function that creates a bookshelf\"\"\"\n",
    "def create_bookshelf(dx,dy,dz):\n",
    "\tpanel = CUBOID([0.1,0.5,1])\n",
    "\tpanels = STRUCT([panel,T(1)(1),panel])\n",
    "\tbasement = CUBOID([2,0.5,0.1])\n",
    "\tbookshelf = STRUCT([panel,basement])\n",
    "\tbookshelf = STRUCT([bookshelf,T(1)(2),panel])\n",
    "\tupperPanel = CUBOID([2.1,0.5,0.1])\n",
    "\tbookshelf = STRUCT([bookshelf,T(3)(1),upperPanel])\n",
    "\tbookshelf = STRUCT([bookshelf,T(3)(0.5),basement])\n",
    "\tbookshelf = T(1)(dx/3)(bookshelf)\n",
    "\tbookshelf = COLOR(Color4f([205/255.0,170/255.0,125/255.0,1]))(bookshelf)\n",
    "\treturn bookshelf\n",
    "\n",
    "\"\"\"function that creates a teaching desk\"\"\"\n",
    "def create_teaching_desk(dx,dy,dz):\n",
    "\tleg = CYLINDER([0.05,0.5])(30)\n",
    "\tleg = T([1,2])([0.05,0.05])(leg)\n",
    "\tleg = COLOR(Color4f([205/255.0,170/255.0,125/255.0,1]))(leg)\n",
    "\tlegs = STRUCT([leg,T(2)(1.25),leg])\n",
    "\tlegs = STRUCT([legs,T(1)(0.7),legs])\n",
    "\tdeskPlane = CUBOID([0.8,1.35,0.1])\n",
    "\tdeskPlane = COLOR(RED)(deskPlane)\n",
    "\tteachingDesk = STRUCT([legs,T(3)(0.5),deskPlane])\n",
    "\tcoveringFront=CUBOID([0.01,1.3,0.4])\n",
    "\tcoveringFront= COLOR(RED)(coveringFront) \n",
    "\tteachingDesk=STRUCT([teachingDesk,T([1,3])([0.8,0.05]),coveringFront])\n",
    "\tcoverLateral=CUBOID([0.75,0.01,0.4])\n",
    "\tcoverLateral = COLOR(YELLOW)(coverLateral)\n",
    "\tteachingDesk=STRUCT([teachingDesk,T([2,3])([1.3,0.05]),coverLateral])\n",
    "\tteachingDesk=STRUCT([teachingDesk,T(3)(0.1),coverLateral])\n",
    "\tteachingChair = create_chair()\n",
    "\tteachingChair = R([1,2])(PI)(teachingChair)\n",
    "\tteachingChair = T(2)(0.8)(teachingChair)\n",
    "\tteachingChair = S([1,2,3])([1.2,1.2,1.2])(teachingChair)\n",
    "\tteachingDesk = STRUCT([teachingDesk,teachingChair])\n",
    "\tteachingDesk = T([1,2])([0.5,dy/3])(teachingDesk)\n",
    "\treturn teachingDesk\n",
    "\n",
    "\"\"\"function that creates a chair\"\"\"\n",
    "def create_chair():\n",
    "\tchairLeg = CUBOID([0.05,0.05,0.3])\n",
    "\tchairSit = CUBOID([0.3,0.3,0.05])\n",
    "\tbackLeg = CUBOID([0.04,0.04,0.2])\n",
    "\tbackLeg= STRUCT([backLeg,T(2)(0.26),backLeg])\n",
    "\tbackLeg = COLOR(GRAY)(backLeg) \n",
    "\tchairSit = COLOR(YELLOW)(chairSit)\n",
    "\tchairLegs = STRUCT([chairLeg,T(2)(0.25),chairLeg])\n",
    "\tchairBack = CUBOID([0.04,0.3,0.1])\n",
    "\tchairBack = COLOR(YELLOW)(chairBack)\n",
    "\tchairBack = STRUCT([backLeg,T(3)(0.2),chairBack])\n",
    "\tchairLegs = STRUCT([chairLegs,T(1)(0.25),chairLegs])\n",
    "\tchairLegs = COLOR(GRAY)(chairLegs)\n",
    "\tchair = STRUCT([chairLegs,T(3)(0.3),chairSit])\n",
    "\tchair =STRUCT([chair,T([1,3])([0.26,0.35]),chairBack])\n",
    "\treturn chair\n",
    "\n",
    "\"\"\"function that creates a chair\"\"\"\n",
    "def create_desks(dx,dy,dz):\n",
    "\tteachingDeskDimension = 0.8\n",
    "\tbookshelfDimension = 0.5\n",
    "\tdeskLeg = CUBOID([0.05,0.05,0.5])\n",
    "\tdesk = CUBOID([0.4,0.6,0.05])\n",
    "\tdesk = COLOR(RED)(desk)\t\n",
    "\tdeskLegs = STRUCT([deskLeg,T(1)(0.35),deskLeg])\n",
    "\tdeskLegs = STRUCT([deskLegs,T(2)(0.55),deskLegs])\n",
    "\tdeskLegs = COLOR(Color4f([205/255.0,170/255.0,125/255.0,1]))(deskLegs)\n",
    "\tdesk = STRUCT([deskLegs,T(3)(0.5),desk])\n",
    "\tbox = SKEL_1(CUBOID([dx,dy,dz]))\n",
    "\tchair = create_chair()\n",
    "\tchairAndDesk = STRUCT([desk,T([1,2])([0.2,0.2]),chair])\n",
    "\tif dx/4> teachingDeskDimension*2:\n",
    "\t\tif dy/8>bookshelfDimension:\n",
    "\t\t\tchairAndDesk = T([1,2])([dx/4.0,dy/8.0])(chairAndDesk)\n",
    "\t\telse:\n",
    "\t\t\tchairAndDesk = T([1,2])([dx/4.0,bookshelfDimension*1.5])(chairAndDesk)\n",
    "\telse:\n",
    "\t\tif dy/8>bookshelfDimension: \n",
    "\t\t\tchairAndDesk = T([1,2])([teachingDeskDimension*2,dy/8.0])(chairAndDesk)\n",
    "\t\telse:\n",
    "\t\t\tchairAndDesk = T([1,2])([teachingDeskDimension*2,bookshelfDimension*2])(chairAndDesk)\n",
    "\ti =0.8\n",
    "\tdesks = chairAndDesk\n",
    "\temptySpaceX = dx-dx/4.0\n",
    "\temptySpaceY = dy-dy/4.0\n",
    "\twhile i< emptySpaceX:\n",
    "\t\tj= i\n",
    "\t\tif j+0.8 <emptySpaceX:\n",
    "\t\t\tdesks = STRUCT([desks,T(1)(i),chairAndDesk])\n",
    "\t\ti += 0.8\n",
    "\n",
    "\ti=1.2\n",
    "\tfinalDesks=desks\n",
    "\twhile i< emptySpaceY:\n",
    "\t\tj=i\n",
    "\t\tif j+1.2 <=emptySpaceY:\n",
    "\t\t\tfinalDesks = STRUCT([finalDesks,T(2)(i),desks])\n",
    "\t\ti += 1.2 \n",
    "\t\t\n",
    "\tresult = STRUCT([box,finalDesks])\n",
    "\treturn result\n",
    "\t\n",
    "\n",
    "\"\"\"calls the other functions and creates a classroom\n",
    "   @Param dx,dy,dz dimensions of the room in meters\"\"\"\n",
    "def ggpl_school_furniture(dx,dy,dz):\n",
    "\tbox = SKEL_1(CUBOID([dx,dy,dz]))\n",
    "\tdesks = create_desks(dx,dy,dz)\n",
    "\tblackboard = create_blackboard(dx,dy,dz)\n",
    "\tresult = STRUCT([desks,blackboard])\n",
    "\tresult = STRUCT([result,box])\n",
    "\tteachingDesk= create_teaching_desk(dx,dy,dz)\n",
    "\tresult = STRUCT([result,teachingDesk])\n",
    "\tbookshelf = create_bookshelf(dx,dy,dz)\n",
    "\tresult = STRUCT([result,bookshelf])\n",
    "\tVIEW(result)\n",
    "\treturn result\n",
    "\n",
    "\n",
    "if __name__==\"__main__\":\n",
    "\tggpl_school_furniture(8.0,8.0,3.0)"
   ]
  },
  {
   "cell_type": "markdown",
   "metadata": {},
   "source": [
    "## Code Analysis"
   ]
  },
  {
   "cell_type": "markdown",
   "metadata": {},
   "source": [
    "## create_blackboard function"
   ]
  },
  {
   "cell_type": "code",
   "execution_count": null,
   "metadata": {
    "collapsed": true
   },
   "outputs": [],
   "source": [
    "\"\"\"function that creates a blackboard\"\"\"\n",
    "def create_blackboard(dx,dy,dz):\n",
    "\tblackboard = COLOR(BLACK)(CUBOID([0.05,2,1]))\n",
    "\tskel = OFFSET([.02,.02,.02])(SKEL_1(blackboard))\n",
    "\tskel = COLOR(Color4f([205/255.0,170/255.0,125/255.0,1]))(skel)\n",
    "\tblackboard = STRUCT([skel,blackboard])\n",
    "\tblackboard = T([2,3])([dy/3,dz/3])(blackboard)\n",
    "\treturn blackboard"
   ]
  },
  {
   "cell_type": "markdown",
   "metadata": {},
   "source": [
    "### This function creates a blackboard putting it in the right position. The blackboard is positioned on the y axis of the class room."
   ]
  },
  {
   "cell_type": "markdown",
   "metadata": {},
   "source": [
    "### example of the blackboard created by the function"
   ]
  },
  {
   "cell_type": "markdown",
   "metadata": {},
   "source": [
    "<img src = \"files/blackboard.png\">"
   ]
  },
  {
   "cell_type": "markdown",
   "metadata": {},
   "source": [
    "## create_bookshelf function"
   ]
  },
  {
   "cell_type": "code",
   "execution_count": null,
   "metadata": {
    "collapsed": true
   },
   "outputs": [],
   "source": [
    "\"\"\"function that creates a bookshelf\"\"\"\n",
    "def create_bookshelf(dx,dy,dz):\n",
    "\tpanel = CUBOID([0.1,0.5,1])\n",
    "\tpanels = STRUCT([panel,T(1)(1),panel])\n",
    "\tbasement = CUBOID([2,0.5,0.1])\n",
    "\tbookshelf = STRUCT([panel,basement])\n",
    "\tbookshelf = STRUCT([bookshelf,T(1)(2),panel])\n",
    "\tupperPanel = CUBOID([2.1,0.5,0.1])\n",
    "\tbookshelf = STRUCT([bookshelf,T(3)(1),upperPanel])\n",
    "\tbookshelf = STRUCT([bookshelf,T(3)(0.5),basement])\n",
    "\tbookshelf = T(1)(dx/3)(bookshelf)\n",
    "\tbookshelf = COLOR(Color4f([205/255.0,170/255.0,125/255.0,1]))(bookshelf)\n",
    "\treturn bookshelf"
   ]
  },
  {
   "cell_type": "markdown",
   "metadata": {},
   "source": [
    "### creates a bookshelf of 2.1x1x0.5 meters. The bookshelf is positioned on the x axis of the classroom"
   ]
  },
  {
   "cell_type": "markdown",
   "metadata": {},
   "source": [
    "### example of a bookshelf created by the function"
   ]
  },
  {
   "cell_type": "markdown",
   "metadata": {},
   "source": [
    "<img src=\"files/bookshelf.png\">"
   ]
  },
  {
   "cell_type": "code",
   "execution_count": null,
   "metadata": {
    "collapsed": true
   },
   "outputs": [],
   "source": []
  }
 ],
 "metadata": {
  "kernelspec": {
   "display_name": "Python 2",
   "language": "python",
   "name": "python2"
  },
  "language_info": {
   "codemirror_mode": {
    "name": "ipython",
    "version": 2
   },
   "file_extension": ".py",
   "mimetype": "text/x-python",
   "name": "python",
   "nbconvert_exporter": "python",
   "pygments_lexer": "ipython2",
   "version": "2.7.12"
  }
 },
 "nbformat": 4,
 "nbformat_minor": 1
}
