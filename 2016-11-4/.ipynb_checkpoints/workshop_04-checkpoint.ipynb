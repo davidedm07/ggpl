{
 "cells": [
  {
   "cell_type": "markdown",
   "metadata": {},
   "source": [
    "# Workshop 4"
   ]
  },
  {
   "cell_type": "markdown",
   "metadata": {},
   "source": [
    "## Roof Builder"
   ]
  },
  {
   "cell_type": "markdown",
   "metadata": {},
   "source": [
    "<img src=\"https://www.carpentry-pro-framer.com/images/gable-roof-style.gif\">"
   ]
  },
  {
   "cell_type": "code",
   "execution_count": 1,
   "metadata": {
    "collapsed": false
   },
   "outputs": [
    {
     "name": "stdout",
     "output_type": "stream",
     "text": [
      "Evaluating fenvs.py..\n",
      "...fenvs.py imported in 0.00553 seconds\n",
      "[[2, 3, 1], [5, 6, 4], [7, 9, 8, 10], [11, 13, 12, 14], [15, 17, 16, 18]]\n",
      "{'8.0,8.0,0.0': [6, 8, 15], '0.0,0.0,0.0': [1, 14, 16], '8.0,0.0,0.0': [4, 12, 17], '8.0,4.0,4.0': [5, 9, 13], '0.0,8.0,0.0': [3, 10, 18], '0.0,4.0,4.0': [2, 7, 11]}\n"
     ]
    }
   ],
   "source": [
    "from pyplasm import *\n",
    "import math\n",
    "from ast import literal_eval\n",
    "\n",
    "def round_vertex(verts):\n",
    "\tfor v in verts:\n",
    "\t\tv[0]=math.fabs(round(v[0],2))\n",
    "\t\tv[1]=math.fabs(round(v[1],2))\n",
    "\t\tv[2]=math.fabs(round(v[2],2))\n",
    "\n",
    "def create_hpc(verts,cells):\n",
    "\troof =MKPOL([verts,cells,None])\n",
    "\treturn roof\n",
    "\n",
    "\n",
    "def replace_cells(cells,dictionary):\n",
    "\tfor cell in cells:\n",
    "\t\tfor element in cell:\n",
    "\t\t\tfor key,val in dictionary.items():\n",
    "\t\t\t\tif element in val:\n",
    "\t\t\t\t\tindex = cell.index(element)\n",
    "\t\t\t\t\tcell[index] = int(key)\n",
    "\n",
    "\n",
    "def find_key(dictionary, key):\n",
    "\ti=1\n",
    "\tfor k in dictionary.keys():\n",
    "\t\tif k==key:\n",
    "\t\t\treturn i;\n",
    "\t\ti+=1\n",
    "\treturn 0\n",
    "\n",
    "def check_coordinates(v,listVerts):\n",
    "\txV,yV,zV = v\n",
    "\tfor i in range(len(listVerts)):\n",
    "\t\tx,y,z = listVerts[i]\n",
    "\t\tif xV==x or yV==y:\n",
    "\t\t\treturn True\n",
    "\t\telse:\n",
    "\t\t\treturn False \n",
    "\n",
    "def ggpl_roof_builder(hpcObject):\n",
    "\troofSkeleton = SKEL_2(hpcObject)\n",
    "\tstructureInfo= UKPOL(roofSkeleton)\n",
    "\tcells = structureInfo[1]\n",
    "\tprint cells\n",
    "\tdictionary = {}\n",
    "\tverts =structureInfo[0]\n",
    "\tround_vertex(verts)\n",
    "\ti=1\n",
    "\tfor v in verts:\n",
    "\t\tkey=','.join(map(str,v))\n",
    "\t\tif not key in dictionary.keys():\n",
    "\t\t\tdictionary[','.join(map(str,v))] = [i]\n",
    "\t\telse:\n",
    "\t\t\tdictionary.get(','.join(map(str,v))).append(i)\n",
    "\n",
    "\t\ti+=1\n",
    "\tprint dictionary\n",
    "\ti=1\n",
    "\tvertsDictionary = {}\n",
    "\tverts=[]\n",
    "\thighVerts =[]\n",
    "\thighVertsV = []\n",
    "\tfor key in dictionary.keys():\n",
    "\t\tvertsDictionary[str(i)] = dictionary.get(key)\n",
    "\t\tv = literal_eval(key)\n",
    "\t\tverts.append(v)\n",
    "\t\tx,y,z = v\n",
    " \t\tif z>0:\n",
    " \t\t\thighVerts.append(find_key(dictionary,','.join(map(str,v))))\n",
    " \t\t\thighVertsV.append(v)\n",
    "\t\ti+=1\n",
    "\tprint verts\n",
    "\treplace_cells(cells,vertsDictionary)\t\t\n",
    "\t#verts= []\t\t\t\t\n",
    "\t#for key in dictionary.keys():\n",
    "\t#\tverts.append(literal_eval(key))\n",
    "\n",
    " \troof = MKPOL([verts,cells,None])\n",
    " \troof = OFFSET([.1,.1,.1])(SKEL_1(roof))\n",
    " \t\n",
    " \t#for vertex in verts:\n",
    " \t#\tx,y,z = vertex\n",
    " \t#\tif z>0:\n",
    " \t#\t\thighVerts.append(find_key(dictionary,','.join(map(str,vertex))))\n",
    " \t\n",
    "\n",
    " \tif not highVerts:\n",
    " \t\t\thighVerts=verts\n",
    " \tup_cells=[]\n",
    " \tfor cell in cells:\n",
    " \t\tfor i in range(len(highVerts)):\n",
    " \t\t\tif check_coordinates(highVertsV[i],verts):\n",
    " \t\t\t\tif all(x in cell for x in highVerts):\n",
    " \t\t\t\t\tup_cells.append(cell)\n",
    " \t\t\telse:\n",
    " \t\t\t\tif highVerts[i] in cell:\n",
    " \t\t\t\t\tup_cells.append(cell)\n",
    " \t\t\t\t\t\t\t\n",
    " \tupboundary_cells = MKPOL([verts,up_cells,None])\n",
    " \troof = STRUCT([roof,upboundary_cells])\n",
    " \tVIEW(roof)\n",
    "\n",
    "\n",
    "\n",
    "if __name__ == '__main__':\n",
    "\t#verts = [[0,0,0],[8,0,0],[8,8,0],[0,8,0],[0,4,4],[8,4,4]]\n",
    "\tverts = [[0,0,0],[8,0,0],[8,8,0],[0,8,0],[2,4,4],[6,4,4]]\n",
    "\tcells=[[1,4,5],[2,6,3],[3,4,5,6],[1,2,5,6],[1,4,3,2]]\n",
    "\thpcObject=create_hpc(verts,cells)\n",
    "\tggpl_roof_builder(hpcObject)\n",
    "\n"
   ]
  },
  {
   "cell_type": "code",
   "execution_count": null,
   "metadata": {
    "collapsed": true
   },
   "outputs": [],
   "source": []
  }
 ],
 "metadata": {
  "kernelspec": {
   "display_name": "Python 2",
   "language": "python",
   "name": "python2"
  },
  "language_info": {
   "codemirror_mode": {
    "name": "ipython",
    "version": 2
   },
   "file_extension": ".py",
   "mimetype": "text/x-python",
   "name": "python",
   "nbconvert_exporter": "python",
   "pygments_lexer": "ipython2",
   "version": "2.7.12"
  }
 },
 "nbformat": 4,
 "nbformat_minor": 1
}
