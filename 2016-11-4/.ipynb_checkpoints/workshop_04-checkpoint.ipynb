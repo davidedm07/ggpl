{
 "cells": [
  {
   "cell_type": "markdown",
   "metadata": {},
   "source": [
    "# Workshop 4"
   ]
  },
  {
   "cell_type": "markdown",
   "metadata": {},
   "source": [
    "## Roof Builder"
   ]
  },
  {
   "cell_type": "markdown",
   "metadata": {},
   "source": [
    "## python method that allows to build 3 different types of roofs \n",
    "### @Param vertices and cells of the roof"
   ]
  },
  {
   "cell_type": "markdown",
   "metadata": {},
   "source": [
    "### Gable Roof"
   ]
  },
  {
   "cell_type": "markdown",
   "metadata": {},
   "source": [
    "<img src=\"https://www.carpentry-pro-framer.com/images/gable-roof-style.gif\">"
   ]
  },
  {
   "cell_type": "markdown",
   "metadata": {},
   "source": [
    "### Hip Roof"
   ]
  },
  {
   "cell_type": "markdown",
   "metadata": {},
   "source": [
    "<img src=\"http://www.workspacetraining.com.au/timberplustoolbox/toolbox13_05/unit8_laying_up_roof_trusses/images/hip_roof_top.gif\">"
   ]
  },
  {
   "cell_type": "markdown",
   "metadata": {},
   "source": [
    "### Mansard Roof"
   ]
  },
  {
   "cell_type": "markdown",
   "metadata": {},
   "source": [
    "<img src=\"https://s-media-cache-ak0.pinimg.com/originals/19/6e/00/196e004a652630b1feef7989de239fb3.jpg\">"
   ]
  },
  {
   "cell_type": "code",
   "execution_count": 3,
   "metadata": {
    "collapsed": false
   },
   "outputs": [],
   "source": [
    "from pyplasm import *\n",
    "import math\n",
    "from ast import literal_eval\n",
    "\n",
    "\"\"\"round the vertices of the structure\"\"\"\n",
    "def round_vertices(verts):\n",
    "\tfor v in verts:\n",
    "\t\tv[0]=math.fabs(round(v[0],2))\n",
    "\t\tv[1]=math.fabs(round(v[1],2))\n",
    "\t\tv[2]=math.fabs(round(v[2],2))\n",
    "\n",
    "\"\"\"create the hpc object as parameter to the ggpl function\"\"\"\n",
    "def create_hpc(verts,cells):\n",
    "\troof =MKPOL([verts,cells,None])\n",
    "\treturn roof\n",
    "\n",
    "\"\"\"replace the cells writing the correct number of the vertices in each tuple\"\"\"\n",
    "def replace_cells(cells,dictionary):\n",
    "\tfor cell in cells:\n",
    "\t\tfor element in cell:\n",
    "\t\t\tfor key,val in dictionary.items():\n",
    "\t\t\t\tif element in val:\n",
    "\t\t\t\t\tindex = cell.index(element)\n",
    "\t\t\t\t\tcell[index] = int(key)\n",
    "\n",
    "\"\"\"set an integer as a key for a vertex\"\"\"\n",
    "def find_key(dictionary, key):\n",
    "\ti=1\n",
    "\tfor k in dictionary.keys():\n",
    "\t\tif k==key:\n",
    "\t\t\treturn i;\n",
    "\t\ti+=1\n",
    "\treturn 0\n",
    "\n",
    "\"\"\"check the position of the upper vertices of the roof\"\"\"\n",
    "\"\"\"if these vertices have the x or y coordinate in common with\"\"\"\n",
    "\"\"\"the coordinates of the vertices of the basement or intermediate ones then return true\"\"\"\n",
    "def check_coordinates(cell,verticesList):\n",
    "\tcheck=False\t\n",
    "\tverticesInCell=[]\n",
    "\tfor el in cell:\n",
    "\t\tvert=verticesList[el-1]\t\n",
    "\t\tverticesInCell.append(vert)\n",
    "\n",
    "\ttemp=verticesInCell[0]\n",
    "\txValueTemp = temp[0]\n",
    "\tyValueTemp=temp[1]\n",
    "\tfor v in verticesInCell:\n",
    "\t\tif v[1]==yValueTemp or v[0]==xValueTemp:\n",
    "\t\t\tcheck=True\n",
    "\t\telse:\n",
    "\t\t\treturn False\n",
    "\treturn check\n",
    "\n",
    "\n",
    "\"\"\"this function creates a roof from an hpc object passed as parameter\"\"\"\n",
    "def ggpl_roof_builder(hpcObject):\n",
    "\t\"\"\"create the skeleton of the object\"\"\"\n",
    "\troofSkeleton = SKEL_2(hpcObject)\n",
    "\t\"\"\"extracts the vertices and the cells of the object and stores them in a list\"\"\"\n",
    "\tstructureInfo= UKPOL(roofSkeleton)\n",
    "\t\"\"\"save the cells in a different list used fot the computations\"\"\"\n",
    "\tcells = structureInfo[1]\n",
    "\t\"\"\"initialize dictionary for the vertices of the structure in order to delete the duplicates\"\"\"\n",
    "\tdictionary = {}\n",
    "\t\"\"\"same procedure done for the cells\"\"\"\n",
    "\tverts =structureInfo[0]\n",
    "\t\"\"\"round vertices of the structure\"\"\"\n",
    "\tround_vertices(verts)\n",
    "\t\"\"\"counter utilised for different computations\"\"\"\n",
    "\ti=1\n",
    "\t\"\"\"for each vertex transform its value in a string and put it as key in the dictionary\"\"\"\n",
    "\t\"\"\"the values of the dictionary are the values assumed by the vertex\"\"\"\n",
    "\t\"\"\"the UKPOL keeps counting the same vertex giving it multiple numbers\"\"\"\n",
    "\tfor v in verts:\n",
    "\t\tkey=','.join(map(str,v))\n",
    "\t\tif not key in dictionary.keys():\n",
    "\t\t\tdictionary[','.join(map(str,v))] = [i]\n",
    "\t\telse:\n",
    "\t\t\tdictionary.get(','.join(map(str,v))).append(i)\n",
    "\n",
    "\t\ti+=1\n",
    "\ti=1\n",
    "\t\"\"\"helper dictionary\"\"\"\n",
    "\tvertsDictionary = {}\n",
    "\t\"\"\"initialize verts, in this list the procedure will put the vertices without duplicates\"\"\"\n",
    "\tverts=[]\n",
    "\t\"\"\"upper vertices of the roof stored as numbers, the 1 vertex, the 2 and so on\"\"\"\n",
    "\thighVerts =[]\n",
    "\t\"\"\"upper vertices stored as tuples\"\"\"\n",
    "\thighVertsV = []\n",
    "\t\"\"\"basement vertices stored as tuples\"\"\"\n",
    "\tdownVertsV = []\n",
    "\t\"\"\"creates the lists above putting the basement vertices in a list and the other ones in another\"\"\"\n",
    "\tfor key in dictionary.keys():\n",
    "\t\tvertsDictionary[str(i)] = dictionary.get(key)\n",
    "\t\tv = literal_eval(key)\n",
    "\t\tverts.append(v)\n",
    "\t\tx,y,z = v\n",
    " \t\tif z>0:\n",
    " \t\t\thighVerts.append(find_key(dictionary,','.join(map(str,v))))\n",
    " \t\t\thighVertsV.append(v)\n",
    " \t\telse:\n",
    " \t\t\tdownVertsV.append(v)\n",
    "\n",
    "\t\ti+=1\n",
    "\t\"\"\"replace the consecutive numbers of the vertices in the cell with the right id of the vertex\"\"\"\t\n",
    "\treplace_cells(cells,vertsDictionary)\n",
    "\t\"\"\"creates the roof from the the computed vertices and cells\"\"\"\t\t\n",
    " \troof = MKPOL([verts,cells,None])\n",
    " \t\"\"\"creates the beams of the roof \"\"\"\n",
    " \troof = OFFSET([.1,.1,.1])(SKEL_1(roof))\n",
    " \t\"\"\"check what are the rising faces of the roof\"\"\"\n",
    " \tup_cells=[]\n",
    " \tfor index in highVerts:\n",
    "\t\tfor cell in cells:\n",
    "\t\t\tif index in cell and not check_coordinates(cell,verts) and not cell in up_cells:\n",
    "\t\t\t\tup_cells.append(cell)\n",
    " \t\"\"\"creates the faces of the roof\"\"\"\t\t\t\t\t\t\t\t\t\t\n",
    " \tupboundary_cells = MKPOL([verts,up_cells,None])\n",
    " \t\"\"\"assemble the final roof\"\"\"\n",
    " \troof = STRUCT([roof,upboundary_cells])\n",
    " \tVIEW(roof)\n",
    " \treturn roof\n",
    "\n",
    "\n",
    "\n",
    "if __name__ == '__main__':\n",
    "\t#gable roof\n",
    "\t#verts = [[0,0,0],[8,0,0],[8,8,0],[0,8,0],[0,4,4],[8,4,4]]\n",
    "\t#hip roof\n",
    "\t#verts = [[0,0,0],[8,0,0],[8,8,0],[0,8,0],[2,4,4],[6,4,4]]\n",
    "\t#gable and hip roof cells\n",
    "\t#cells=[[1,4,5],[2,6,3],[3,4,5,6],[1,2,5,6],[1,4,3,2]]\n",
    "\t#mansard\n",
    "\tverts = [[0,0,0],[8,0,0],[8,8,0],[0,8,0],[2,2,4],[2,6,4],[6,2,4],[6,6,4]]\n",
    "\tcells=[[1,4,5,6],[2,7,3,8],[3,4,8,6],[1,2,5,7],[1,4,3,2],[7,8,5,6]]\n",
    "\t#gambrel\n",
    "\t#verts = [[0,0,0],[2,0,3],[2,8,3],[0,8,0],[6,0,6],[6,8,6],[10,0,3],[10,8,3],[12,0,0],[12,8,0]]\n",
    "\t#cells=[[1,2,3,4],[2,3,6,5],[5,6,8,7],[7,8,10,9],[1,4,9,10],[1,2,5,7,9],[3,4,6,8,10]]\n",
    "\thpcObject=create_hpc(verts,cells)\n",
    "\tggpl_roof_builder(hpcObject)\n",
    "\n"
   ]
  },
  {
   "cell_type": "markdown",
   "metadata": {
    "collapsed": true
   },
   "source": [
    "# Examples"
   ]
  },
  {
   "cell_type": "markdown",
   "metadata": {},
   "source": [
    " ## Gable Roof"
   ]
  },
  {
   "cell_type": "markdown",
   "metadata": {},
   "source": [
    "<img src=\"files/gable_roof.png\">"
   ]
  },
  {
   "cell_type": "markdown",
   "metadata": {},
   "source": [
    "## Hip Roof"
   ]
  },
  {
   "cell_type": "markdown",
   "metadata": {},
   "source": [
    "<img src=\"files/hip_roof.png\">"
   ]
  },
  {
   "cell_type": "markdown",
   "metadata": {},
   "source": [
    "## Mansard Roof"
   ]
  },
  {
   "cell_type": "markdown",
   "metadata": {},
   "source": [
    "<img src=\"files/mansard_roof.png\">"
   ]
  },
  {
   "cell_type": "markdown",
   "metadata": {},
   "source": [
    "## Gambrel Roof"
   ]
  },
  {
   "cell_type": "markdown",
   "metadata": {},
   "source": [
    "<img src=\"files/gambrel_roof.png\">"
   ]
  },
  {
   "cell_type": "code",
   "execution_count": null,
   "metadata": {
    "collapsed": true
   },
   "outputs": [],
   "source": []
  }
 ],
 "metadata": {
  "kernelspec": {
   "display_name": "Python 2",
   "language": "python",
   "name": "python2"
  },
  "language_info": {
   "codemirror_mode": {
    "name": "ipython",
    "version": 2
   },
   "file_extension": ".py",
   "mimetype": "text/x-python",
   "name": "python",
   "nbconvert_exporter": "python",
   "pygments_lexer": "ipython2",
   "version": "2.7.12"
  }
 },
 "nbformat": 4,
 "nbformat_minor": 1
}
